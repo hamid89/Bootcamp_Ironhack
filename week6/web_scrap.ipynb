{
 "cells": [
  {
   "cell_type": "code",
   "execution_count": 28,
   "metadata": {},
   "outputs": [],
   "source": [
    "from bs4 import BeautifulSoup\n",
    "import requests\n",
    "import pandas as pd\n",
    "import matplotlib.pyplot as plt\n",
    "import warnings\n",
    "import seaborn as sns"
   ]
  },
  {
   "cell_type": "code",
   "execution_count": 84,
   "metadata": {},
   "outputs": [
    {
     "data": {
      "text/plain": [
       "200"
      ]
     },
     "execution_count": 84,
     "metadata": {},
     "output_type": "execute_result"
    }
   ],
   "source": [
    "url = 'https://www.billboard.com/charts/hot-100'\n",
    "request = requests.get(url)\n",
    "request.status_code"
   ]
  },
  {
   "cell_type": "code",
   "execution_count": 55,
   "metadata": {},
   "outputs": [],
   "source": [
    "html = '''<!DOCTYPE html>\n",
    "<html>\n",
    "  <head>\n",
    "    Geography\n",
    "  </head>\n",
    "  <body>\n",
    "    <div class=\"city\">\n",
    "      <h2>London</h2>\n",
    "      <p>London is the most popular tourist destination in the world.</p>\n",
    "    </div>\n",
    "\n",
    "    <div class=\"city\">\n",
    "      <h2>Paris</h2>\n",
    "      <p>Paris was originally a Roman City called Lutetia.</p>\n",
    "    </div>\n",
    "\n",
    "    <div class=\"country\">\n",
    "      <h2>Spain</h2>\n",
    "      <p>Spain produces 43,8% of all the world's Olive Oil.</p>\n",
    "    </div>\n",
    "  </body>\n",
    "</html>'''"
   ]
  },
  {
   "cell_type": "code",
   "execution_count": 85,
   "metadata": {},
   "outputs": [],
   "source": [
    "s = BeautifulSoup(request.content, \"html.parser\")\n"
   ]
  },
  {
   "cell_type": "code",
   "execution_count": 88,
   "metadata": {},
   "outputs": [],
   "source": [
    "ls = []\n",
    "for i in range(len(s.select(\"li span.chart-element__information__artist\"))):\n",
    "      ls.append(s.select(\"li span.chart-element__information__artist\")[i].get_text())\n",
    "\n"
   ]
  },
  {
   "cell_type": "code",
   "execution_count": 100,
   "metadata": {},
   "outputs": [],
   "source": [
    "ls1 = []\n",
    "for i in range(len(s.select(\"li span.chart-element__information__song\"))):\n",
    "      ls1.append(s.select(\"li span.chart-element__information__song\")[i].get_text())"
   ]
  },
  {
   "cell_type": "code",
   "execution_count": 97,
   "metadata": {},
   "outputs": [
    {
     "data": {
      "text/plain": [
       "100"
      ]
     },
     "execution_count": 97,
     "metadata": {},
     "output_type": "execute_result"
    }
   ],
   "source": [
    "len(ls1)"
   ]
  },
  {
   "cell_type": "code",
   "execution_count": 102,
   "metadata": {},
   "outputs": [],
   "source": [
    "ls2 = []\n",
    "for i in range(len(s.select(\"li span.chart-element__rank__number\"))):\n",
    "      ls2.append(s.select(\"li span.chart-element__rank__number\")[i].get_text())      \n"
   ]
  },
  {
   "cell_type": "code",
   "execution_count": 112,
   "metadata": {},
   "outputs": [],
   "source": [
    "my_list = s.select(\"li span.chart-element__rank__number\")\n",
    "my_list1 = s.select(\"li span.chart-element__information__song\")\n",
    "my_list2 = s.select(\"li span.chart-element__information__artist\")"
   ]
  },
  {
   "cell_type": "code",
   "execution_count": 115,
   "metadata": {},
   "outputs": [],
   "source": [
    "ls5 = []\n",
    "ls6 = []\n",
    "ls7 = []\n",
    "for item1,item2,item3, in zip(my_list,my_list1,my_list2):\n",
    "    ls5.append(item1.get_text())\n",
    "    ls6.append(item2.get_text())\n",
    "    ls7.append(item3.get_text())"
   ]
  },
  {
   "cell_type": "code",
   "execution_count": 121,
   "metadata": {},
   "outputs": [],
   "source": [
    "data = pd.DataFrame({'artist': ls7, 'song': ls6, 'Ranks': ls5})"
   ]
  },
  {
   "cell_type": "code",
   "execution_count": 123,
   "metadata": {},
   "outputs": [
    {
     "data": {
      "text/html": [
       "<div>\n",
       "<style scoped>\n",
       "    .dataframe tbody tr th:only-of-type {\n",
       "        vertical-align: middle;\n",
       "    }\n",
       "\n",
       "    .dataframe tbody tr th {\n",
       "        vertical-align: top;\n",
       "    }\n",
       "\n",
       "    .dataframe thead th {\n",
       "        text-align: right;\n",
       "    }\n",
       "</style>\n",
       "<table border=\"1\" class=\"dataframe\">\n",
       "  <thead>\n",
       "    <tr style=\"text-align: right;\">\n",
       "      <th></th>\n",
       "      <th>artist</th>\n",
       "      <th>song</th>\n",
       "      <th>Ranks</th>\n",
       "    </tr>\n",
       "  </thead>\n",
       "  <tbody>\n",
       "    <tr>\n",
       "      <th>0</th>\n",
       "      <td>Olivia Rodrigo</td>\n",
       "      <td>Drivers License</td>\n",
       "      <td>1</td>\n",
       "    </tr>\n",
       "    <tr>\n",
       "      <th>1</th>\n",
       "      <td>Cardi B</td>\n",
       "      <td>Up</td>\n",
       "      <td>2</td>\n",
       "    </tr>\n",
       "    <tr>\n",
       "      <th>2</th>\n",
       "      <td>The Weeknd</td>\n",
       "      <td>Blinding Lights</td>\n",
       "      <td>3</td>\n",
       "    </tr>\n",
       "    <tr>\n",
       "      <th>3</th>\n",
       "      <td>The Weeknd</td>\n",
       "      <td>Save Your Tears</td>\n",
       "      <td>4</td>\n",
       "    </tr>\n",
       "    <tr>\n",
       "      <th>4</th>\n",
       "      <td>24kGoldn Featuring iann dior</td>\n",
       "      <td>Mood</td>\n",
       "      <td>5</td>\n",
       "    </tr>\n",
       "    <tr>\n",
       "      <th>5</th>\n",
       "      <td>Ariana Grande</td>\n",
       "      <td>34+35</td>\n",
       "      <td>6</td>\n",
       "    </tr>\n",
       "    <tr>\n",
       "      <th>6</th>\n",
       "      <td>Chris Brown &amp; Young Thug</td>\n",
       "      <td>Go Crazy</td>\n",
       "      <td>7</td>\n",
       "    </tr>\n",
       "    <tr>\n",
       "      <th>7</th>\n",
       "      <td>Dua Lipa Featuring DaBaby</td>\n",
       "      <td>Levitating</td>\n",
       "      <td>8</td>\n",
       "    </tr>\n",
       "    <tr>\n",
       "      <th>8</th>\n",
       "      <td>Ariana Grande</td>\n",
       "      <td>Positions</td>\n",
       "      <td>9</td>\n",
       "    </tr>\n",
       "    <tr>\n",
       "      <th>9</th>\n",
       "      <td>Pop Smoke</td>\n",
       "      <td>What You Know Bout Love</td>\n",
       "      <td>10</td>\n",
       "    </tr>\n",
       "    <tr>\n",
       "      <th>10</th>\n",
       "      <td>CJ</td>\n",
       "      <td>Whoopty</td>\n",
       "      <td>11</td>\n",
       "    </tr>\n",
       "    <tr>\n",
       "      <th>11</th>\n",
       "      <td>Pop Smoke Featuring Lil Baby &amp; DaBaby</td>\n",
       "      <td>For The Night</td>\n",
       "      <td>12</td>\n",
       "    </tr>\n",
       "    <tr>\n",
       "      <th>12</th>\n",
       "      <td>SZA</td>\n",
       "      <td>Good Days</td>\n",
       "      <td>13</td>\n",
       "    </tr>\n",
       "    <tr>\n",
       "      <th>13</th>\n",
       "      <td>Justin Bieber Featuring Chance The Rapper</td>\n",
       "      <td>Holy</td>\n",
       "      <td>14</td>\n",
       "    </tr>\n",
       "    <tr>\n",
       "      <th>14</th>\n",
       "      <td>Billie Eilish</td>\n",
       "      <td>Therefore I Am</td>\n",
       "      <td>15</td>\n",
       "    </tr>\n",
       "    <tr>\n",
       "      <th>15</th>\n",
       "      <td>Justin Bieber &amp; benny blanco</td>\n",
       "      <td>Lonely</td>\n",
       "      <td>16</td>\n",
       "    </tr>\n",
       "    <tr>\n",
       "      <th>16</th>\n",
       "      <td>Pooh Shiesty Featuring Lil Durk</td>\n",
       "      <td>Back In Blood</td>\n",
       "      <td>17</td>\n",
       "    </tr>\n",
       "    <tr>\n",
       "      <th>17</th>\n",
       "      <td>Luke Combs</td>\n",
       "      <td>Better Together</td>\n",
       "      <td>18</td>\n",
       "    </tr>\n",
       "    <tr>\n",
       "      <th>18</th>\n",
       "      <td>Bad Bunny &amp; Jhay Cortez</td>\n",
       "      <td>Dakiti</td>\n",
       "      <td>19</td>\n",
       "    </tr>\n",
       "    <tr>\n",
       "      <th>19</th>\n",
       "      <td>Gabby Barrett Featuring Charlie Puth</td>\n",
       "      <td>I Hope</td>\n",
       "      <td>20</td>\n",
       "    </tr>\n",
       "  </tbody>\n",
       "</table>\n",
       "</div>"
      ],
      "text/plain": [
       "                                       artist                     song Ranks\n",
       "0                              Olivia Rodrigo          Drivers License     1\n",
       "1                                     Cardi B                       Up     2\n",
       "2                                  The Weeknd          Blinding Lights     3\n",
       "3                                  The Weeknd          Save Your Tears     4\n",
       "4                24kGoldn Featuring iann dior                     Mood     5\n",
       "5                               Ariana Grande                    34+35     6\n",
       "6                    Chris Brown & Young Thug                 Go Crazy     7\n",
       "7                   Dua Lipa Featuring DaBaby               Levitating     8\n",
       "8                               Ariana Grande                Positions     9\n",
       "9                                   Pop Smoke  What You Know Bout Love    10\n",
       "10                                         CJ                  Whoopty    11\n",
       "11      Pop Smoke Featuring Lil Baby & DaBaby            For The Night    12\n",
       "12                                        SZA                Good Days    13\n",
       "13  Justin Bieber Featuring Chance The Rapper                     Holy    14\n",
       "14                              Billie Eilish           Therefore I Am    15\n",
       "15               Justin Bieber & benny blanco                   Lonely    16\n",
       "16            Pooh Shiesty Featuring Lil Durk            Back In Blood    17\n",
       "17                                 Luke Combs          Better Together    18\n",
       "18                    Bad Bunny & Jhay Cortez                   Dakiti    19\n",
       "19       Gabby Barrett Featuring Charlie Puth                   I Hope    20"
      ]
     },
     "execution_count": 123,
     "metadata": {},
     "output_type": "execute_result"
    }
   ],
   "source": [
    "data.head(20)"
   ]
  },
  {
   "cell_type": "code",
   "execution_count": null,
   "metadata": {},
   "outputs": [],
   "source": []
  }
 ],
 "metadata": {
  "kernelspec": {
   "display_name": "Python 3",
   "language": "python",
   "name": "python3"
  },
  "language_info": {
   "codemirror_mode": {
    "name": "ipython",
    "version": 3
   },
   "file_extension": ".py",
   "mimetype": "text/x-python",
   "name": "python",
   "nbconvert_exporter": "python",
   "pygments_lexer": "ipython3",
   "version": "3.9.0"
  }
 },
 "nbformat": 4,
 "nbformat_minor": 4
}
