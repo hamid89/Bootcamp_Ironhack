{
 "cells": [
  {
   "cell_type": "markdown",
   "metadata": {},
   "source": [
    "## Instructions (I):\n",
    "With your group mates, open the file in file_for_project/fifa21_training.csv. The objective is to create the best linear model to predict the column OVR.\n",
    "\n",
    "1.\n",
    "Each member of the team should have his/her own juypter notebook. In addition, each group should have a group jupyter notebook.\n",
    "\n",
    "2.\n",
    "Decide which columns can be predictive and which ones can be directly dropped and take the need actions.\n",
    "\n",
    "3.\n",
    "Decide among the members of the group who is going to take care of inspecting the remaining columns of the dataset. For example: Member 1: cols 1 -> 5 Member 2: cols 6 -> 10 … and so on\n",
    "\n",
    "3.\n",
    "Each member must do:\n",
    "\n",
    "Explore their assigned columns and write python code to perform any cleanup operation that the assigned columns may need.\n",
    "\n",
    "Perform any scaling operation that the assigned column may need.\n",
    "\n",
    "4.\n",
    "Put all the code of each member into the group jupyter notebook."
   ]
  },
  {
   "cell_type": "markdown",
   "metadata": {},
   "source": [
    "## Instructions (II):\n",
    "During this afternoon session, each member of the group must write a function which:\n",
    "\n",
    "takes a dataframe as input\n",
    "perform the data cleaning operations on the assigned columns\n",
    "return a new cleaned dataframe.\n",
    "Then put all you group member functions into the group jupyter notebook.\n",
    "\n",
    "BONUS\n",
    "Try to create a new function called preprocess which\"\n",
    "\n",
    "takes a dataframeas input\n",
    "call all the other group member functions and apply them to the starting dataframe\n",
    "return a clean dataframe."
   ]
  },
  {
   "cell_type": "code",
   "execution_count": 140,
   "metadata": {},
   "outputs": [],
   "source": [
    "import numpy as np\n",
    "import pandas as pd\n",
    "import matplotlib.pyplot as plt\n",
    "import seaborn as sns\n",
    "pd.set_option('display.max_columns', None)\n",
    "pd.set_option('display.max_rows', None)\n",
    "import warnings\n",
    "warnings.filterwarnings('ignore')\n",
    "%matplotlib inline\n",
    "import math"
   ]
  },
  {
   "cell_type": "code",
   "execution_count": 141,
   "metadata": {},
   "outputs": [],
   "source": [
    "from sklearn import preprocessing"
   ]
  },
  {
   "cell_type": "code",
   "execution_count": 142,
   "metadata": {},
   "outputs": [],
   "source": [
    "from sklearn import linear_model\n",
    "from sklearn.metrics import mean_squared_error, r2_score\n",
    "from sklearn.model_selection import train_test_split"
   ]
  },
  {
   "cell_type": "markdown",
   "metadata": {},
   "source": [
    "## 01 - Problem (case study): Data Description + Goal ##"
   ]
  },
  {
   "cell_type": "markdown",
   "metadata": {},
   "source": [
    "Case Study: Predict FIFA 21 OVA based on given data "
   ]
  },
  {
   "cell_type": "markdown",
   "metadata": {},
   "source": [
    "## 02 - Getting Data: Read the .csv file ##"
   ]
  },
  {
   "cell_type": "code",
   "execution_count": 143,
   "metadata": {},
   "outputs": [],
   "source": [
    "data = pd.read_csv('fifa21_trainning.csv')"
   ]
  },
  {
   "cell_type": "code",
   "execution_count": 144,
   "metadata": {
    "scrolled": true
   },
   "outputs": [
    {
     "data": {
      "text/html": [
       "<div>\n",
       "<style scoped>\n",
       "    .dataframe tbody tr th:only-of-type {\n",
       "        vertical-align: middle;\n",
       "    }\n",
       "\n",
       "    .dataframe tbody tr th {\n",
       "        vertical-align: top;\n",
       "    }\n",
       "\n",
       "    .dataframe thead th {\n",
       "        text-align: right;\n",
       "    }\n",
       "</style>\n",
       "<table border=\"1\" class=\"dataframe\">\n",
       "  <thead>\n",
       "    <tr style=\"text-align: right;\">\n",
       "      <th></th>\n",
       "      <th>Unnamed: 0</th>\n",
       "      <th>ID</th>\n",
       "      <th>Name</th>\n",
       "      <th>Age</th>\n",
       "      <th>Nationality</th>\n",
       "      <th>Club</th>\n",
       "      <th>BP</th>\n",
       "      <th>Position</th>\n",
       "      <th>Team &amp; Contract</th>\n",
       "      <th>Height</th>\n",
       "      <th>Weight</th>\n",
       "      <th>foot</th>\n",
       "      <th>Growth</th>\n",
       "      <th>Joined</th>\n",
       "      <th>Loan Date End</th>\n",
       "      <th>Value</th>\n",
       "      <th>Wage</th>\n",
       "      <th>Release Clause</th>\n",
       "      <th>Contract</th>\n",
       "      <th>Attacking</th>\n",
       "      <th>Crossing</th>\n",
       "      <th>Finishing</th>\n",
       "      <th>Heading Accuracy</th>\n",
       "      <th>Short Passing</th>\n",
       "      <th>Volleys</th>\n",
       "      <th>Skill</th>\n",
       "      <th>Dribbling</th>\n",
       "      <th>Curve</th>\n",
       "      <th>FK Accuracy</th>\n",
       "      <th>Long Passing</th>\n",
       "      <th>Ball Control</th>\n",
       "      <th>Movement</th>\n",
       "      <th>Acceleration</th>\n",
       "      <th>Sprint Speed</th>\n",
       "      <th>Agility</th>\n",
       "      <th>Reactions</th>\n",
       "      <th>Balance</th>\n",
       "      <th>Power</th>\n",
       "      <th>Shot Power</th>\n",
       "      <th>Jumping</th>\n",
       "      <th>Stamina</th>\n",
       "      <th>Strength</th>\n",
       "      <th>Long Shots</th>\n",
       "      <th>Mentality</th>\n",
       "      <th>Aggression</th>\n",
       "      <th>Interceptions</th>\n",
       "      <th>Positioning</th>\n",
       "      <th>Vision</th>\n",
       "      <th>Penalties</th>\n",
       "      <th>Composure</th>\n",
       "      <th>Defending</th>\n",
       "      <th>Marking</th>\n",
       "      <th>Standing Tackle</th>\n",
       "      <th>Sliding Tackle</th>\n",
       "      <th>Goalkeeping</th>\n",
       "      <th>GK Diving</th>\n",
       "      <th>GK Handling</th>\n",
       "      <th>GK Kicking</th>\n",
       "      <th>GK Positioning</th>\n",
       "      <th>GK Reflexes</th>\n",
       "      <th>Total Stats</th>\n",
       "      <th>Base Stats</th>\n",
       "      <th>W/F</th>\n",
       "      <th>SM</th>\n",
       "      <th>A/W</th>\n",
       "      <th>D/W</th>\n",
       "      <th>IR</th>\n",
       "      <th>PAC</th>\n",
       "      <th>SHO</th>\n",
       "      <th>PAS</th>\n",
       "      <th>DRI</th>\n",
       "      <th>DEF</th>\n",
       "      <th>PHY</th>\n",
       "      <th>Hits</th>\n",
       "      <th>LS</th>\n",
       "      <th>ST</th>\n",
       "      <th>RS</th>\n",
       "      <th>LW</th>\n",
       "      <th>LF</th>\n",
       "      <th>CF</th>\n",
       "      <th>RF</th>\n",
       "      <th>RW</th>\n",
       "      <th>LAM</th>\n",
       "      <th>CAM</th>\n",
       "      <th>RAM</th>\n",
       "      <th>LM</th>\n",
       "      <th>LCM</th>\n",
       "      <th>CM</th>\n",
       "      <th>RCM</th>\n",
       "      <th>RM</th>\n",
       "      <th>LWB</th>\n",
       "      <th>LDM</th>\n",
       "      <th>CDM</th>\n",
       "      <th>RDM</th>\n",
       "      <th>RWB</th>\n",
       "      <th>LB</th>\n",
       "      <th>LCB</th>\n",
       "      <th>CB</th>\n",
       "      <th>RCB</th>\n",
       "      <th>RB</th>\n",
       "      <th>GK</th>\n",
       "      <th>OVA</th>\n",
       "    </tr>\n",
       "  </thead>\n",
       "  <tbody>\n",
       "    <tr>\n",
       "      <th>0</th>\n",
       "      <td>1954</td>\n",
       "      <td>184383</td>\n",
       "      <td>A. Pasche</td>\n",
       "      <td>26</td>\n",
       "      <td>Switzerland</td>\n",
       "      <td>FC Lausanne-Sport</td>\n",
       "      <td>CM</td>\n",
       "      <td>CM CDM</td>\n",
       "      <td>FC Lausanne-Sport 2015 ~ 2020</td>\n",
       "      <td>5'9\"</td>\n",
       "      <td>161lbs</td>\n",
       "      <td>Right</td>\n",
       "      <td>1</td>\n",
       "      <td>Jul 1, 2015</td>\n",
       "      <td>NaN</td>\n",
       "      <td>€525K</td>\n",
       "      <td>€4K</td>\n",
       "      <td>€801K</td>\n",
       "      <td>2015 ~ 2020</td>\n",
       "      <td>258</td>\n",
       "      <td>54</td>\n",
       "      <td>47</td>\n",
       "      <td>43</td>\n",
       "      <td>70</td>\n",
       "      <td>44.0</td>\n",
       "      <td>286</td>\n",
       "      <td>61</td>\n",
       "      <td>44.0</td>\n",
       "      <td>55</td>\n",
       "      <td>63</td>\n",
       "      <td>63</td>\n",
       "      <td>346</td>\n",
       "      <td>64</td>\n",
       "      <td>73</td>\n",
       "      <td>61.0</td>\n",
       "      <td>66</td>\n",
       "      <td>82.0</td>\n",
       "      <td>306</td>\n",
       "      <td>62</td>\n",
       "      <td>73.0</td>\n",
       "      <td>71</td>\n",
       "      <td>55</td>\n",
       "      <td>45</td>\n",
       "      <td>290</td>\n",
       "      <td>54</td>\n",
       "      <td>52.0</td>\n",
       "      <td>62.0</td>\n",
       "      <td>68.0</td>\n",
       "      <td>54</td>\n",
       "      <td>54.0</td>\n",
       "      <td>148</td>\n",
       "      <td>49</td>\n",
       "      <td>56</td>\n",
       "      <td>43.0</td>\n",
       "      <td>48</td>\n",
       "      <td>7</td>\n",
       "      <td>12</td>\n",
       "      <td>14</td>\n",
       "      <td>9</td>\n",
       "      <td>6</td>\n",
       "      <td>1682</td>\n",
       "      <td>357</td>\n",
       "      <td>4 ★</td>\n",
       "      <td>2★</td>\n",
       "      <td>High</td>\n",
       "      <td>Medium</td>\n",
       "      <td>1 ★</td>\n",
       "      <td>69</td>\n",
       "      <td>51</td>\n",
       "      <td>63</td>\n",
       "      <td>63</td>\n",
       "      <td>51</td>\n",
       "      <td>60</td>\n",
       "      <td>3</td>\n",
       "      <td>58+1</td>\n",
       "      <td>58+1</td>\n",
       "      <td>58+1</td>\n",
       "      <td>61+0</td>\n",
       "      <td>62+0</td>\n",
       "      <td>62+0</td>\n",
       "      <td>62+0</td>\n",
       "      <td>61+0</td>\n",
       "      <td>63+1</td>\n",
       "      <td>63+1</td>\n",
       "      <td>63+1</td>\n",
       "      <td>63+1</td>\n",
       "      <td>63+1</td>\n",
       "      <td>63+1</td>\n",
       "      <td>63+1</td>\n",
       "      <td>63+1</td>\n",
       "      <td>59+1</td>\n",
       "      <td>59+1</td>\n",
       "      <td>59+1</td>\n",
       "      <td>59+1</td>\n",
       "      <td>59+1</td>\n",
       "      <td>58+1</td>\n",
       "      <td>54+1</td>\n",
       "      <td>54+1</td>\n",
       "      <td>54+1</td>\n",
       "      <td>58+1</td>\n",
       "      <td>15+1</td>\n",
       "      <td>64</td>\n",
       "    </tr>\n",
       "    <tr>\n",
       "      <th>1</th>\n",
       "      <td>2225</td>\n",
       "      <td>188044</td>\n",
       "      <td>Alan Carvalho</td>\n",
       "      <td>30</td>\n",
       "      <td>China PR</td>\n",
       "      <td>Beijing Sinobo Guoan FC</td>\n",
       "      <td>ST</td>\n",
       "      <td>ST LW LM</td>\n",
       "      <td>Beijing Sinobo Guoan FC Dec 31, 2020 On Loan</td>\n",
       "      <td>6'0\"</td>\n",
       "      <td>159lbs</td>\n",
       "      <td>Right</td>\n",
       "      <td>0</td>\n",
       "      <td>Jan 16, 2015</td>\n",
       "      <td>Dec 31, 2020</td>\n",
       "      <td>€8.5M</td>\n",
       "      <td>€23K</td>\n",
       "      <td>€0</td>\n",
       "      <td>Dec 31, 2020 On Loan</td>\n",
       "      <td>365</td>\n",
       "      <td>66</td>\n",
       "      <td>79</td>\n",
       "      <td>76</td>\n",
       "      <td>68</td>\n",
       "      <td>76.0</td>\n",
       "      <td>375</td>\n",
       "      <td>83</td>\n",
       "      <td>78.0</td>\n",
       "      <td>72</td>\n",
       "      <td>63</td>\n",
       "      <td>79</td>\n",
       "      <td>404</td>\n",
       "      <td>83</td>\n",
       "      <td>83</td>\n",
       "      <td>88.0</td>\n",
       "      <td>75</td>\n",
       "      <td>75.0</td>\n",
       "      <td>372</td>\n",
       "      <td>74</td>\n",
       "      <td>81.0</td>\n",
       "      <td>75</td>\n",
       "      <td>74</td>\n",
       "      <td>68</td>\n",
       "      <td>313</td>\n",
       "      <td>54</td>\n",
       "      <td>33.0</td>\n",
       "      <td>78.0</td>\n",
       "      <td>72.0</td>\n",
       "      <td>76</td>\n",
       "      <td>70.0</td>\n",
       "      <td>77</td>\n",
       "      <td>35</td>\n",
       "      <td>20</td>\n",
       "      <td>22.0</td>\n",
       "      <td>55</td>\n",
       "      <td>11</td>\n",
       "      <td>7</td>\n",
       "      <td>14</td>\n",
       "      <td>7</td>\n",
       "      <td>16</td>\n",
       "      <td>1961</td>\n",
       "      <td>412</td>\n",
       "      <td>3 ★</td>\n",
       "      <td>4★</td>\n",
       "      <td>High</td>\n",
       "      <td>Low</td>\n",
       "      <td>2 ★</td>\n",
       "      <td>83</td>\n",
       "      <td>75</td>\n",
       "      <td>68</td>\n",
       "      <td>82</td>\n",
       "      <td>33</td>\n",
       "      <td>71</td>\n",
       "      <td>44</td>\n",
       "      <td>77+0</td>\n",
       "      <td>77+0</td>\n",
       "      <td>77+0</td>\n",
       "      <td>77+0</td>\n",
       "      <td>77+0</td>\n",
       "      <td>77+0</td>\n",
       "      <td>77+0</td>\n",
       "      <td>77+0</td>\n",
       "      <td>76+1</td>\n",
       "      <td>76+1</td>\n",
       "      <td>76+1</td>\n",
       "      <td>76+1</td>\n",
       "      <td>68+2</td>\n",
       "      <td>68+2</td>\n",
       "      <td>68+2</td>\n",
       "      <td>76+1</td>\n",
       "      <td>57+2</td>\n",
       "      <td>53+2</td>\n",
       "      <td>53+2</td>\n",
       "      <td>53+2</td>\n",
       "      <td>57+2</td>\n",
       "      <td>53+2</td>\n",
       "      <td>48+2</td>\n",
       "      <td>48+2</td>\n",
       "      <td>48+2</td>\n",
       "      <td>53+2</td>\n",
       "      <td>18+2</td>\n",
       "      <td>77</td>\n",
       "    </tr>\n",
       "    <tr>\n",
       "      <th>2</th>\n",
       "      <td>1959</td>\n",
       "      <td>184431</td>\n",
       "      <td>S. Giovinco</td>\n",
       "      <td>33</td>\n",
       "      <td>Italy</td>\n",
       "      <td>Al Hilal</td>\n",
       "      <td>CAM</td>\n",
       "      <td>CAM CF</td>\n",
       "      <td>Al Hilal 2019 ~ 2022</td>\n",
       "      <td>5'4\"</td>\n",
       "      <td>134lbs</td>\n",
       "      <td>Right</td>\n",
       "      <td>0</td>\n",
       "      <td>Jan 31, 2019</td>\n",
       "      <td>NaN</td>\n",
       "      <td>€9M</td>\n",
       "      <td>€49K</td>\n",
       "      <td>€15.3M</td>\n",
       "      <td>2019 ~ 2022</td>\n",
       "      <td>336</td>\n",
       "      <td>73</td>\n",
       "      <td>76</td>\n",
       "      <td>34</td>\n",
       "      <td>78</td>\n",
       "      <td>75.0</td>\n",
       "      <td>424</td>\n",
       "      <td>85</td>\n",
       "      <td>89.0</td>\n",
       "      <td>91</td>\n",
       "      <td>74</td>\n",
       "      <td>85</td>\n",
       "      <td>424</td>\n",
       "      <td>84</td>\n",
       "      <td>76</td>\n",
       "      <td>93.0</td>\n",
       "      <td>78</td>\n",
       "      <td>93.0</td>\n",
       "      <td>308</td>\n",
       "      <td>79</td>\n",
       "      <td>34.0</td>\n",
       "      <td>75</td>\n",
       "      <td>42</td>\n",
       "      <td>78</td>\n",
       "      <td>332</td>\n",
       "      <td>75</td>\n",
       "      <td>26.0</td>\n",
       "      <td>80.0</td>\n",
       "      <td>78.0</td>\n",
       "      <td>73</td>\n",
       "      <td>82.0</td>\n",
       "      <td>80</td>\n",
       "      <td>23</td>\n",
       "      <td>29</td>\n",
       "      <td>28.0</td>\n",
       "      <td>21</td>\n",
       "      <td>6</td>\n",
       "      <td>3</td>\n",
       "      <td>6</td>\n",
       "      <td>3</td>\n",
       "      <td>3</td>\n",
       "      <td>1925</td>\n",
       "      <td>404</td>\n",
       "      <td>4 ★</td>\n",
       "      <td>4★</td>\n",
       "      <td>High</td>\n",
       "      <td>Medium</td>\n",
       "      <td>2 ★</td>\n",
       "      <td>80</td>\n",
       "      <td>77</td>\n",
       "      <td>78</td>\n",
       "      <td>86</td>\n",
       "      <td>27</td>\n",
       "      <td>56</td>\n",
       "      <td>73</td>\n",
       "      <td>73+2</td>\n",
       "      <td>73+2</td>\n",
       "      <td>73+2</td>\n",
       "      <td>80+0</td>\n",
       "      <td>79+0</td>\n",
       "      <td>79+0</td>\n",
       "      <td>79+0</td>\n",
       "      <td>80+0</td>\n",
       "      <td>80+0</td>\n",
       "      <td>80+0</td>\n",
       "      <td>80+0</td>\n",
       "      <td>79+1</td>\n",
       "      <td>74+2</td>\n",
       "      <td>74+2</td>\n",
       "      <td>74+2</td>\n",
       "      <td>79+1</td>\n",
       "      <td>59+2</td>\n",
       "      <td>56+2</td>\n",
       "      <td>56+2</td>\n",
       "      <td>56+2</td>\n",
       "      <td>59+2</td>\n",
       "      <td>53+2</td>\n",
       "      <td>41+2</td>\n",
       "      <td>41+2</td>\n",
       "      <td>41+2</td>\n",
       "      <td>53+2</td>\n",
       "      <td>12+2</td>\n",
       "      <td>80</td>\n",
       "    </tr>\n",
       "    <tr>\n",
       "      <th>3</th>\n",
       "      <td>9815</td>\n",
       "      <td>233796</td>\n",
       "      <td>J. Evans</td>\n",
       "      <td>22</td>\n",
       "      <td>Wales</td>\n",
       "      <td>Swansea City</td>\n",
       "      <td>CDM</td>\n",
       "      <td>CDM CM</td>\n",
       "      <td>Swansea City 2016 ~ 2021</td>\n",
       "      <td>5'10\"</td>\n",
       "      <td>152lbs</td>\n",
       "      <td>Right</td>\n",
       "      <td>13</td>\n",
       "      <td>Jul 1, 2016</td>\n",
       "      <td>NaN</td>\n",
       "      <td>€275K</td>\n",
       "      <td>€4K</td>\n",
       "      <td>€694K</td>\n",
       "      <td>2016 ~ 2021</td>\n",
       "      <td>242</td>\n",
       "      <td>44</td>\n",
       "      <td>42</td>\n",
       "      <td>58</td>\n",
       "      <td>62</td>\n",
       "      <td>36.0</td>\n",
       "      <td>259</td>\n",
       "      <td>54</td>\n",
       "      <td>41.0</td>\n",
       "      <td>46</td>\n",
       "      <td>57</td>\n",
       "      <td>61</td>\n",
       "      <td>282</td>\n",
       "      <td>54</td>\n",
       "      <td>59</td>\n",
       "      <td>59.0</td>\n",
       "      <td>55</td>\n",
       "      <td>55.0</td>\n",
       "      <td>277</td>\n",
       "      <td>57</td>\n",
       "      <td>60.0</td>\n",
       "      <td>64</td>\n",
       "      <td>58</td>\n",
       "      <td>38</td>\n",
       "      <td>257</td>\n",
       "      <td>61</td>\n",
       "      <td>57.0</td>\n",
       "      <td>31.0</td>\n",
       "      <td>54.0</td>\n",
       "      <td>54</td>\n",
       "      <td>48.0</td>\n",
       "      <td>168</td>\n",
       "      <td>55</td>\n",
       "      <td>58</td>\n",
       "      <td>55.0</td>\n",
       "      <td>42</td>\n",
       "      <td>8</td>\n",
       "      <td>9</td>\n",
       "      <td>6</td>\n",
       "      <td>7</td>\n",
       "      <td>12</td>\n",
       "      <td>1527</td>\n",
       "      <td>329</td>\n",
       "      <td>2 ★</td>\n",
       "      <td>2★</td>\n",
       "      <td>Medium</td>\n",
       "      <td>Medium</td>\n",
       "      <td>1 ★</td>\n",
       "      <td>57</td>\n",
       "      <td>44</td>\n",
       "      <td>54</td>\n",
       "      <td>57</td>\n",
       "      <td>57</td>\n",
       "      <td>60</td>\n",
       "      <td>7</td>\n",
       "      <td>50+2</td>\n",
       "      <td>50+2</td>\n",
       "      <td>50+2</td>\n",
       "      <td>51+0</td>\n",
       "      <td>51+0</td>\n",
       "      <td>51+0</td>\n",
       "      <td>51+0</td>\n",
       "      <td>51+0</td>\n",
       "      <td>53+2</td>\n",
       "      <td>53+2</td>\n",
       "      <td>53+2</td>\n",
       "      <td>53+2</td>\n",
       "      <td>56+2</td>\n",
       "      <td>56+2</td>\n",
       "      <td>56+2</td>\n",
       "      <td>53+2</td>\n",
       "      <td>56+2</td>\n",
       "      <td>58+2</td>\n",
       "      <td>58+2</td>\n",
       "      <td>58+2</td>\n",
       "      <td>56+2</td>\n",
       "      <td>57+2</td>\n",
       "      <td>58+2</td>\n",
       "      <td>58+2</td>\n",
       "      <td>58+2</td>\n",
       "      <td>57+2</td>\n",
       "      <td>14+2</td>\n",
       "      <td>59</td>\n",
       "    </tr>\n",
       "    <tr>\n",
       "      <th>4</th>\n",
       "      <td>10074</td>\n",
       "      <td>234799</td>\n",
       "      <td>Y. Demoncy</td>\n",
       "      <td>23</td>\n",
       "      <td>France</td>\n",
       "      <td>US Orléans Loiret Football</td>\n",
       "      <td>CDM</td>\n",
       "      <td>CDM CM</td>\n",
       "      <td>US Orléans Loiret Football 2018 ~ 2021</td>\n",
       "      <td>5'11\"</td>\n",
       "      <td>150lbs</td>\n",
       "      <td>Right</td>\n",
       "      <td>8</td>\n",
       "      <td>Jul 1, 2018</td>\n",
       "      <td>NaN</td>\n",
       "      <td>€725K</td>\n",
       "      <td>€2K</td>\n",
       "      <td>€1.4M</td>\n",
       "      <td>2018 ~ 2021</td>\n",
       "      <td>249</td>\n",
       "      <td>49</td>\n",
       "      <td>37</td>\n",
       "      <td>61</td>\n",
       "      <td>68</td>\n",
       "      <td>34.0</td>\n",
       "      <td>280</td>\n",
       "      <td>64</td>\n",
       "      <td>44.0</td>\n",
       "      <td>45</td>\n",
       "      <td>61</td>\n",
       "      <td>66</td>\n",
       "      <td>324</td>\n",
       "      <td>66</td>\n",
       "      <td>66</td>\n",
       "      <td>61.0</td>\n",
       "      <td>62</td>\n",
       "      <td>69.0</td>\n",
       "      <td>280</td>\n",
       "      <td>61</td>\n",
       "      <td>34.0</td>\n",
       "      <td>81</td>\n",
       "      <td>61</td>\n",
       "      <td>43</td>\n",
       "      <td>294</td>\n",
       "      <td>66</td>\n",
       "      <td>60.0</td>\n",
       "      <td>55.0</td>\n",
       "      <td>64.0</td>\n",
       "      <td>49</td>\n",
       "      <td>58.0</td>\n",
       "      <td>185</td>\n",
       "      <td>58</td>\n",
       "      <td>61</td>\n",
       "      <td>66.0</td>\n",
       "      <td>52</td>\n",
       "      <td>8</td>\n",
       "      <td>9</td>\n",
       "      <td>15</td>\n",
       "      <td>5</td>\n",
       "      <td>15</td>\n",
       "      <td>1664</td>\n",
       "      <td>360</td>\n",
       "      <td>2 ★</td>\n",
       "      <td>3★</td>\n",
       "      <td>Low</td>\n",
       "      <td>Medium</td>\n",
       "      <td>1 ★</td>\n",
       "      <td>66</td>\n",
       "      <td>44</td>\n",
       "      <td>60</td>\n",
       "      <td>64</td>\n",
       "      <td>60</td>\n",
       "      <td>66</td>\n",
       "      <td>4</td>\n",
       "      <td>56+2</td>\n",
       "      <td>56+2</td>\n",
       "      <td>56+2</td>\n",
       "      <td>59+0</td>\n",
       "      <td>59+0</td>\n",
       "      <td>59+0</td>\n",
       "      <td>59+0</td>\n",
       "      <td>59+0</td>\n",
       "      <td>61+2</td>\n",
       "      <td>61+2</td>\n",
       "      <td>61+2</td>\n",
       "      <td>62+2</td>\n",
       "      <td>63+2</td>\n",
       "      <td>63+2</td>\n",
       "      <td>63+2</td>\n",
       "      <td>62+2</td>\n",
       "      <td>64+2</td>\n",
       "      <td>64+2</td>\n",
       "      <td>64+2</td>\n",
       "      <td>64+2</td>\n",
       "      <td>64+2</td>\n",
       "      <td>63+2</td>\n",
       "      <td>61+2</td>\n",
       "      <td>61+2</td>\n",
       "      <td>61+2</td>\n",
       "      <td>63+2</td>\n",
       "      <td>15+2</td>\n",
       "      <td>65</td>\n",
       "    </tr>\n",
       "  </tbody>\n",
       "</table>\n",
       "</div>"
      ],
      "text/plain": [
       "   Unnamed: 0      ID           Name  Age  Nationality  \\\n",
       "0        1954  184383      A. Pasche   26  Switzerland   \n",
       "1        2225  188044  Alan Carvalho   30     China PR   \n",
       "2        1959  184431    S. Giovinco   33        Italy   \n",
       "3        9815  233796       J. Evans   22        Wales   \n",
       "4       10074  234799     Y. Demoncy   23       France   \n",
       "\n",
       "                         Club   BP  Position  \\\n",
       "0           FC Lausanne-Sport   CM    CM CDM   \n",
       "1     Beijing Sinobo Guoan FC   ST  ST LW LM   \n",
       "2                    Al Hilal  CAM    CAM CF   \n",
       "3                Swansea City  CDM    CDM CM   \n",
       "4  US Orléans Loiret Football  CDM    CDM CM   \n",
       "\n",
       "                                Team & Contract Height  Weight   foot  Growth  \\\n",
       "0                 FC Lausanne-Sport 2015 ~ 2020   5'9\"  161lbs  Right       1   \n",
       "1  Beijing Sinobo Guoan FC Dec 31, 2020 On Loan   6'0\"  159lbs  Right       0   \n",
       "2                          Al Hilal 2019 ~ 2022   5'4\"  134lbs  Right       0   \n",
       "3                      Swansea City 2016 ~ 2021  5'10\"  152lbs  Right      13   \n",
       "4        US Orléans Loiret Football 2018 ~ 2021  5'11\"  150lbs  Right       8   \n",
       "\n",
       "         Joined Loan Date End  Value  Wage Release Clause  \\\n",
       "0   Jul 1, 2015           NaN  €525K   €4K          €801K   \n",
       "1  Jan 16, 2015  Dec 31, 2020  €8.5M  €23K             €0   \n",
       "2  Jan 31, 2019           NaN    €9M  €49K         €15.3M   \n",
       "3   Jul 1, 2016           NaN  €275K   €4K          €694K   \n",
       "4   Jul 1, 2018           NaN  €725K   €2K          €1.4M   \n",
       "\n",
       "               Contract  Attacking  Crossing  Finishing  Heading Accuracy  \\\n",
       "0           2015 ~ 2020        258        54         47                43   \n",
       "1  Dec 31, 2020 On Loan        365        66         79                76   \n",
       "2           2019 ~ 2022        336        73         76                34   \n",
       "3           2016 ~ 2021        242        44         42                58   \n",
       "4           2018 ~ 2021        249        49         37                61   \n",
       "\n",
       "   Short Passing  Volleys  Skill  Dribbling  Curve  FK Accuracy  Long Passing  \\\n",
       "0             70     44.0    286         61   44.0           55            63   \n",
       "1             68     76.0    375         83   78.0           72            63   \n",
       "2             78     75.0    424         85   89.0           91            74   \n",
       "3             62     36.0    259         54   41.0           46            57   \n",
       "4             68     34.0    280         64   44.0           45            61   \n",
       "\n",
       "   Ball Control  Movement  Acceleration  Sprint Speed  Agility  Reactions  \\\n",
       "0            63       346            64            73     61.0         66   \n",
       "1            79       404            83            83     88.0         75   \n",
       "2            85       424            84            76     93.0         78   \n",
       "3            61       282            54            59     59.0         55   \n",
       "4            66       324            66            66     61.0         62   \n",
       "\n",
       "   Balance  Power  Shot Power  Jumping  Stamina  Strength  Long Shots  \\\n",
       "0     82.0    306          62     73.0       71        55          45   \n",
       "1     75.0    372          74     81.0       75        74          68   \n",
       "2     93.0    308          79     34.0       75        42          78   \n",
       "3     55.0    277          57     60.0       64        58          38   \n",
       "4     69.0    280          61     34.0       81        61          43   \n",
       "\n",
       "   Mentality  Aggression  Interceptions  Positioning  Vision  Penalties  \\\n",
       "0        290          54           52.0         62.0    68.0         54   \n",
       "1        313          54           33.0         78.0    72.0         76   \n",
       "2        332          75           26.0         80.0    78.0         73   \n",
       "3        257          61           57.0         31.0    54.0         54   \n",
       "4        294          66           60.0         55.0    64.0         49   \n",
       "\n",
       "   Composure  Defending  Marking  Standing Tackle  Sliding Tackle  \\\n",
       "0       54.0        148       49               56            43.0   \n",
       "1       70.0         77       35               20            22.0   \n",
       "2       82.0         80       23               29            28.0   \n",
       "3       48.0        168       55               58            55.0   \n",
       "4       58.0        185       58               61            66.0   \n",
       "\n",
       "   Goalkeeping  GK Diving  GK Handling  GK Kicking  GK Positioning  \\\n",
       "0           48          7           12          14               9   \n",
       "1           55         11            7          14               7   \n",
       "2           21          6            3           6               3   \n",
       "3           42          8            9           6               7   \n",
       "4           52          8            9          15               5   \n",
       "\n",
       "   GK Reflexes  Total Stats  Base Stats  W/F  SM     A/W     D/W   IR  PAC  \\\n",
       "0            6         1682         357  4 ★  2★    High  Medium  1 ★   69   \n",
       "1           16         1961         412  3 ★  4★    High     Low  2 ★   83   \n",
       "2            3         1925         404  4 ★  4★    High  Medium  2 ★   80   \n",
       "3           12         1527         329  2 ★  2★  Medium  Medium  1 ★   57   \n",
       "4           15         1664         360  2 ★  3★     Low  Medium  1 ★   66   \n",
       "\n",
       "   SHO  PAS  DRI  DEF  PHY Hits    LS    ST    RS    LW    LF    CF    RF  \\\n",
       "0   51   63   63   51   60    3  58+1  58+1  58+1  61+0  62+0  62+0  62+0   \n",
       "1   75   68   82   33   71   44  77+0  77+0  77+0  77+0  77+0  77+0  77+0   \n",
       "2   77   78   86   27   56   73  73+2  73+2  73+2  80+0  79+0  79+0  79+0   \n",
       "3   44   54   57   57   60    7  50+2  50+2  50+2  51+0  51+0  51+0  51+0   \n",
       "4   44   60   64   60   66    4  56+2  56+2  56+2  59+0  59+0  59+0  59+0   \n",
       "\n",
       "     RW   LAM   CAM   RAM    LM   LCM    CM   RCM    RM   LWB   LDM   CDM  \\\n",
       "0  61+0  63+1  63+1  63+1  63+1  63+1  63+1  63+1  63+1  59+1  59+1  59+1   \n",
       "1  77+0  76+1  76+1  76+1  76+1  68+2  68+2  68+2  76+1  57+2  53+2  53+2   \n",
       "2  80+0  80+0  80+0  80+0  79+1  74+2  74+2  74+2  79+1  59+2  56+2  56+2   \n",
       "3  51+0  53+2  53+2  53+2  53+2  56+2  56+2  56+2  53+2  56+2  58+2  58+2   \n",
       "4  59+0  61+2  61+2  61+2  62+2  63+2  63+2  63+2  62+2  64+2  64+2  64+2   \n",
       "\n",
       "    RDM   RWB    LB   LCB    CB   RCB    RB    GK  OVA  \n",
       "0  59+1  59+1  58+1  54+1  54+1  54+1  58+1  15+1   64  \n",
       "1  53+2  57+2  53+2  48+2  48+2  48+2  53+2  18+2   77  \n",
       "2  56+2  59+2  53+2  41+2  41+2  41+2  53+2  12+2   80  \n",
       "3  58+2  56+2  57+2  58+2  58+2  58+2  57+2  14+2   59  \n",
       "4  64+2  64+2  63+2  61+2  61+2  61+2  63+2  15+2   65  "
      ]
     },
     "execution_count": 144,
     "metadata": {},
     "output_type": "execute_result"
    }
   ],
   "source": [
    "data.head(5)"
   ]
  },
  {
   "cell_type": "code",
   "execution_count": 145,
   "metadata": {},
   "outputs": [],
   "source": [
    "#len(data['id'].unique())"
   ]
  },
  {
   "cell_type": "code",
   "execution_count": 146,
   "metadata": {},
   "outputs": [
    {
     "name": "stdout",
     "output_type": "stream",
     "text": [
      "Index(['unnamed:_0', 'id', 'name', 'age', 'nationality', 'club', 'bp',\n",
      "       'position', 'team_&_contract', 'height',\n",
      "       ...\n",
      "       'cdm', 'rdm', 'rwb', 'lb', 'lcb', 'cb', 'rcb', 'rb', 'gk', 'ova'],\n",
      "      dtype='object', length=102)\n"
     ]
    }
   ],
   "source": [
    "#standardize column headers\n",
    "#lowercase and underscore\n",
    "data.columns = [val.lower().replace(' ','_') for val in data.columns]\n",
    "print(data.columns)"
   ]
  },
  {
   "cell_type": "code",
   "execution_count": 147,
   "metadata": {},
   "outputs": [],
   "source": [
    "data = data.drop(['id'], axis = 1)"
   ]
  },
  {
   "cell_type": "code",
   "execution_count": 148,
   "metadata": {},
   "outputs": [],
   "source": [
    "data = data.drop(['unnamed:_0'], axis = 1)"
   ]
  },
  {
   "cell_type": "code",
   "execution_count": 149,
   "metadata": {},
   "outputs": [
    {
     "data": {
      "text/html": [
       "<div>\n",
       "<style scoped>\n",
       "    .dataframe tbody tr th:only-of-type {\n",
       "        vertical-align: middle;\n",
       "    }\n",
       "\n",
       "    .dataframe tbody tr th {\n",
       "        vertical-align: top;\n",
       "    }\n",
       "\n",
       "    .dataframe thead th {\n",
       "        text-align: right;\n",
       "    }\n",
       "</style>\n",
       "<table border=\"1\" class=\"dataframe\">\n",
       "  <thead>\n",
       "    <tr style=\"text-align: right;\">\n",
       "      <th></th>\n",
       "      <th>name</th>\n",
       "      <th>age</th>\n",
       "      <th>nationality</th>\n",
       "      <th>club</th>\n",
       "      <th>bp</th>\n",
       "      <th>position</th>\n",
       "      <th>team_&amp;_contract</th>\n",
       "      <th>height</th>\n",
       "      <th>weight</th>\n",
       "      <th>foot</th>\n",
       "      <th>growth</th>\n",
       "      <th>joined</th>\n",
       "      <th>loan_date_end</th>\n",
       "      <th>value</th>\n",
       "      <th>wage</th>\n",
       "      <th>release_clause</th>\n",
       "      <th>contract</th>\n",
       "      <th>attacking</th>\n",
       "      <th>crossing</th>\n",
       "      <th>finishing</th>\n",
       "      <th>heading_accuracy</th>\n",
       "      <th>short_passing</th>\n",
       "      <th>volleys</th>\n",
       "      <th>skill</th>\n",
       "      <th>dribbling</th>\n",
       "      <th>curve</th>\n",
       "      <th>fk_accuracy</th>\n",
       "      <th>long_passing</th>\n",
       "      <th>ball_control</th>\n",
       "      <th>movement</th>\n",
       "      <th>acceleration</th>\n",
       "      <th>sprint_speed</th>\n",
       "      <th>agility</th>\n",
       "      <th>reactions</th>\n",
       "      <th>balance</th>\n",
       "      <th>power</th>\n",
       "      <th>shot_power</th>\n",
       "      <th>jumping</th>\n",
       "      <th>stamina</th>\n",
       "      <th>strength</th>\n",
       "      <th>long_shots</th>\n",
       "      <th>mentality</th>\n",
       "      <th>aggression</th>\n",
       "      <th>interceptions</th>\n",
       "      <th>positioning</th>\n",
       "      <th>vision</th>\n",
       "      <th>penalties</th>\n",
       "      <th>composure</th>\n",
       "      <th>defending</th>\n",
       "      <th>marking</th>\n",
       "      <th>standing_tackle</th>\n",
       "      <th>sliding_tackle</th>\n",
       "      <th>goalkeeping</th>\n",
       "      <th>gk_diving</th>\n",
       "      <th>gk_handling</th>\n",
       "      <th>gk_kicking</th>\n",
       "      <th>gk_positioning</th>\n",
       "      <th>gk_reflexes</th>\n",
       "      <th>total_stats</th>\n",
       "      <th>base_stats</th>\n",
       "      <th>w/f</th>\n",
       "      <th>sm</th>\n",
       "      <th>a/w</th>\n",
       "      <th>d/w</th>\n",
       "      <th>ir</th>\n",
       "      <th>pac</th>\n",
       "      <th>sho</th>\n",
       "      <th>pas</th>\n",
       "      <th>dri</th>\n",
       "      <th>def</th>\n",
       "      <th>phy</th>\n",
       "      <th>hits</th>\n",
       "      <th>ls</th>\n",
       "      <th>st</th>\n",
       "      <th>rs</th>\n",
       "      <th>lw</th>\n",
       "      <th>lf</th>\n",
       "      <th>cf</th>\n",
       "      <th>rf</th>\n",
       "      <th>rw</th>\n",
       "      <th>lam</th>\n",
       "      <th>cam</th>\n",
       "      <th>ram</th>\n",
       "      <th>lm</th>\n",
       "      <th>lcm</th>\n",
       "      <th>cm</th>\n",
       "      <th>rcm</th>\n",
       "      <th>rm</th>\n",
       "      <th>lwb</th>\n",
       "      <th>ldm</th>\n",
       "      <th>cdm</th>\n",
       "      <th>rdm</th>\n",
       "      <th>rwb</th>\n",
       "      <th>lb</th>\n",
       "      <th>lcb</th>\n",
       "      <th>cb</th>\n",
       "      <th>rcb</th>\n",
       "      <th>rb</th>\n",
       "      <th>gk</th>\n",
       "      <th>ova</th>\n",
       "    </tr>\n",
       "  </thead>\n",
       "  <tbody>\n",
       "    <tr>\n",
       "      <th>0</th>\n",
       "      <td>A. Pasche</td>\n",
       "      <td>26</td>\n",
       "      <td>Switzerland</td>\n",
       "      <td>FC Lausanne-Sport</td>\n",
       "      <td>CM</td>\n",
       "      <td>CM CDM</td>\n",
       "      <td>FC Lausanne-Sport 2015 ~ 2020</td>\n",
       "      <td>5'9\"</td>\n",
       "      <td>161lbs</td>\n",
       "      <td>Right</td>\n",
       "      <td>1</td>\n",
       "      <td>Jul 1, 2015</td>\n",
       "      <td>NaN</td>\n",
       "      <td>€525K</td>\n",
       "      <td>€4K</td>\n",
       "      <td>€801K</td>\n",
       "      <td>2015 ~ 2020</td>\n",
       "      <td>258</td>\n",
       "      <td>54</td>\n",
       "      <td>47</td>\n",
       "      <td>43</td>\n",
       "      <td>70</td>\n",
       "      <td>44.0</td>\n",
       "      <td>286</td>\n",
       "      <td>61</td>\n",
       "      <td>44.0</td>\n",
       "      <td>55</td>\n",
       "      <td>63</td>\n",
       "      <td>63</td>\n",
       "      <td>346</td>\n",
       "      <td>64</td>\n",
       "      <td>73</td>\n",
       "      <td>61.0</td>\n",
       "      <td>66</td>\n",
       "      <td>82.0</td>\n",
       "      <td>306</td>\n",
       "      <td>62</td>\n",
       "      <td>73.0</td>\n",
       "      <td>71</td>\n",
       "      <td>55</td>\n",
       "      <td>45</td>\n",
       "      <td>290</td>\n",
       "      <td>54</td>\n",
       "      <td>52.0</td>\n",
       "      <td>62.0</td>\n",
       "      <td>68.0</td>\n",
       "      <td>54</td>\n",
       "      <td>54.0</td>\n",
       "      <td>148</td>\n",
       "      <td>49</td>\n",
       "      <td>56</td>\n",
       "      <td>43.0</td>\n",
       "      <td>48</td>\n",
       "      <td>7</td>\n",
       "      <td>12</td>\n",
       "      <td>14</td>\n",
       "      <td>9</td>\n",
       "      <td>6</td>\n",
       "      <td>1682</td>\n",
       "      <td>357</td>\n",
       "      <td>4 ★</td>\n",
       "      <td>2★</td>\n",
       "      <td>High</td>\n",
       "      <td>Medium</td>\n",
       "      <td>1 ★</td>\n",
       "      <td>69</td>\n",
       "      <td>51</td>\n",
       "      <td>63</td>\n",
       "      <td>63</td>\n",
       "      <td>51</td>\n",
       "      <td>60</td>\n",
       "      <td>3</td>\n",
       "      <td>58+1</td>\n",
       "      <td>58+1</td>\n",
       "      <td>58+1</td>\n",
       "      <td>61+0</td>\n",
       "      <td>62+0</td>\n",
       "      <td>62+0</td>\n",
       "      <td>62+0</td>\n",
       "      <td>61+0</td>\n",
       "      <td>63+1</td>\n",
       "      <td>63+1</td>\n",
       "      <td>63+1</td>\n",
       "      <td>63+1</td>\n",
       "      <td>63+1</td>\n",
       "      <td>63+1</td>\n",
       "      <td>63+1</td>\n",
       "      <td>63+1</td>\n",
       "      <td>59+1</td>\n",
       "      <td>59+1</td>\n",
       "      <td>59+1</td>\n",
       "      <td>59+1</td>\n",
       "      <td>59+1</td>\n",
       "      <td>58+1</td>\n",
       "      <td>54+1</td>\n",
       "      <td>54+1</td>\n",
       "      <td>54+1</td>\n",
       "      <td>58+1</td>\n",
       "      <td>15+1</td>\n",
       "      <td>64</td>\n",
       "    </tr>\n",
       "    <tr>\n",
       "      <th>1</th>\n",
       "      <td>Alan Carvalho</td>\n",
       "      <td>30</td>\n",
       "      <td>China PR</td>\n",
       "      <td>Beijing Sinobo Guoan FC</td>\n",
       "      <td>ST</td>\n",
       "      <td>ST LW LM</td>\n",
       "      <td>Beijing Sinobo Guoan FC Dec 31, 2020 On Loan</td>\n",
       "      <td>6'0\"</td>\n",
       "      <td>159lbs</td>\n",
       "      <td>Right</td>\n",
       "      <td>0</td>\n",
       "      <td>Jan 16, 2015</td>\n",
       "      <td>Dec 31, 2020</td>\n",
       "      <td>€8.5M</td>\n",
       "      <td>€23K</td>\n",
       "      <td>€0</td>\n",
       "      <td>Dec 31, 2020 On Loan</td>\n",
       "      <td>365</td>\n",
       "      <td>66</td>\n",
       "      <td>79</td>\n",
       "      <td>76</td>\n",
       "      <td>68</td>\n",
       "      <td>76.0</td>\n",
       "      <td>375</td>\n",
       "      <td>83</td>\n",
       "      <td>78.0</td>\n",
       "      <td>72</td>\n",
       "      <td>63</td>\n",
       "      <td>79</td>\n",
       "      <td>404</td>\n",
       "      <td>83</td>\n",
       "      <td>83</td>\n",
       "      <td>88.0</td>\n",
       "      <td>75</td>\n",
       "      <td>75.0</td>\n",
       "      <td>372</td>\n",
       "      <td>74</td>\n",
       "      <td>81.0</td>\n",
       "      <td>75</td>\n",
       "      <td>74</td>\n",
       "      <td>68</td>\n",
       "      <td>313</td>\n",
       "      <td>54</td>\n",
       "      <td>33.0</td>\n",
       "      <td>78.0</td>\n",
       "      <td>72.0</td>\n",
       "      <td>76</td>\n",
       "      <td>70.0</td>\n",
       "      <td>77</td>\n",
       "      <td>35</td>\n",
       "      <td>20</td>\n",
       "      <td>22.0</td>\n",
       "      <td>55</td>\n",
       "      <td>11</td>\n",
       "      <td>7</td>\n",
       "      <td>14</td>\n",
       "      <td>7</td>\n",
       "      <td>16</td>\n",
       "      <td>1961</td>\n",
       "      <td>412</td>\n",
       "      <td>3 ★</td>\n",
       "      <td>4★</td>\n",
       "      <td>High</td>\n",
       "      <td>Low</td>\n",
       "      <td>2 ★</td>\n",
       "      <td>83</td>\n",
       "      <td>75</td>\n",
       "      <td>68</td>\n",
       "      <td>82</td>\n",
       "      <td>33</td>\n",
       "      <td>71</td>\n",
       "      <td>44</td>\n",
       "      <td>77+0</td>\n",
       "      <td>77+0</td>\n",
       "      <td>77+0</td>\n",
       "      <td>77+0</td>\n",
       "      <td>77+0</td>\n",
       "      <td>77+0</td>\n",
       "      <td>77+0</td>\n",
       "      <td>77+0</td>\n",
       "      <td>76+1</td>\n",
       "      <td>76+1</td>\n",
       "      <td>76+1</td>\n",
       "      <td>76+1</td>\n",
       "      <td>68+2</td>\n",
       "      <td>68+2</td>\n",
       "      <td>68+2</td>\n",
       "      <td>76+1</td>\n",
       "      <td>57+2</td>\n",
       "      <td>53+2</td>\n",
       "      <td>53+2</td>\n",
       "      <td>53+2</td>\n",
       "      <td>57+2</td>\n",
       "      <td>53+2</td>\n",
       "      <td>48+2</td>\n",
       "      <td>48+2</td>\n",
       "      <td>48+2</td>\n",
       "      <td>53+2</td>\n",
       "      <td>18+2</td>\n",
       "      <td>77</td>\n",
       "    </tr>\n",
       "    <tr>\n",
       "      <th>2</th>\n",
       "      <td>S. Giovinco</td>\n",
       "      <td>33</td>\n",
       "      <td>Italy</td>\n",
       "      <td>Al Hilal</td>\n",
       "      <td>CAM</td>\n",
       "      <td>CAM CF</td>\n",
       "      <td>Al Hilal 2019 ~ 2022</td>\n",
       "      <td>5'4\"</td>\n",
       "      <td>134lbs</td>\n",
       "      <td>Right</td>\n",
       "      <td>0</td>\n",
       "      <td>Jan 31, 2019</td>\n",
       "      <td>NaN</td>\n",
       "      <td>€9M</td>\n",
       "      <td>€49K</td>\n",
       "      <td>€15.3M</td>\n",
       "      <td>2019 ~ 2022</td>\n",
       "      <td>336</td>\n",
       "      <td>73</td>\n",
       "      <td>76</td>\n",
       "      <td>34</td>\n",
       "      <td>78</td>\n",
       "      <td>75.0</td>\n",
       "      <td>424</td>\n",
       "      <td>85</td>\n",
       "      <td>89.0</td>\n",
       "      <td>91</td>\n",
       "      <td>74</td>\n",
       "      <td>85</td>\n",
       "      <td>424</td>\n",
       "      <td>84</td>\n",
       "      <td>76</td>\n",
       "      <td>93.0</td>\n",
       "      <td>78</td>\n",
       "      <td>93.0</td>\n",
       "      <td>308</td>\n",
       "      <td>79</td>\n",
       "      <td>34.0</td>\n",
       "      <td>75</td>\n",
       "      <td>42</td>\n",
       "      <td>78</td>\n",
       "      <td>332</td>\n",
       "      <td>75</td>\n",
       "      <td>26.0</td>\n",
       "      <td>80.0</td>\n",
       "      <td>78.0</td>\n",
       "      <td>73</td>\n",
       "      <td>82.0</td>\n",
       "      <td>80</td>\n",
       "      <td>23</td>\n",
       "      <td>29</td>\n",
       "      <td>28.0</td>\n",
       "      <td>21</td>\n",
       "      <td>6</td>\n",
       "      <td>3</td>\n",
       "      <td>6</td>\n",
       "      <td>3</td>\n",
       "      <td>3</td>\n",
       "      <td>1925</td>\n",
       "      <td>404</td>\n",
       "      <td>4 ★</td>\n",
       "      <td>4★</td>\n",
       "      <td>High</td>\n",
       "      <td>Medium</td>\n",
       "      <td>2 ★</td>\n",
       "      <td>80</td>\n",
       "      <td>77</td>\n",
       "      <td>78</td>\n",
       "      <td>86</td>\n",
       "      <td>27</td>\n",
       "      <td>56</td>\n",
       "      <td>73</td>\n",
       "      <td>73+2</td>\n",
       "      <td>73+2</td>\n",
       "      <td>73+2</td>\n",
       "      <td>80+0</td>\n",
       "      <td>79+0</td>\n",
       "      <td>79+0</td>\n",
       "      <td>79+0</td>\n",
       "      <td>80+0</td>\n",
       "      <td>80+0</td>\n",
       "      <td>80+0</td>\n",
       "      <td>80+0</td>\n",
       "      <td>79+1</td>\n",
       "      <td>74+2</td>\n",
       "      <td>74+2</td>\n",
       "      <td>74+2</td>\n",
       "      <td>79+1</td>\n",
       "      <td>59+2</td>\n",
       "      <td>56+2</td>\n",
       "      <td>56+2</td>\n",
       "      <td>56+2</td>\n",
       "      <td>59+2</td>\n",
       "      <td>53+2</td>\n",
       "      <td>41+2</td>\n",
       "      <td>41+2</td>\n",
       "      <td>41+2</td>\n",
       "      <td>53+2</td>\n",
       "      <td>12+2</td>\n",
       "      <td>80</td>\n",
       "    </tr>\n",
       "    <tr>\n",
       "      <th>3</th>\n",
       "      <td>J. Evans</td>\n",
       "      <td>22</td>\n",
       "      <td>Wales</td>\n",
       "      <td>Swansea City</td>\n",
       "      <td>CDM</td>\n",
       "      <td>CDM CM</td>\n",
       "      <td>Swansea City 2016 ~ 2021</td>\n",
       "      <td>5'10\"</td>\n",
       "      <td>152lbs</td>\n",
       "      <td>Right</td>\n",
       "      <td>13</td>\n",
       "      <td>Jul 1, 2016</td>\n",
       "      <td>NaN</td>\n",
       "      <td>€275K</td>\n",
       "      <td>€4K</td>\n",
       "      <td>€694K</td>\n",
       "      <td>2016 ~ 2021</td>\n",
       "      <td>242</td>\n",
       "      <td>44</td>\n",
       "      <td>42</td>\n",
       "      <td>58</td>\n",
       "      <td>62</td>\n",
       "      <td>36.0</td>\n",
       "      <td>259</td>\n",
       "      <td>54</td>\n",
       "      <td>41.0</td>\n",
       "      <td>46</td>\n",
       "      <td>57</td>\n",
       "      <td>61</td>\n",
       "      <td>282</td>\n",
       "      <td>54</td>\n",
       "      <td>59</td>\n",
       "      <td>59.0</td>\n",
       "      <td>55</td>\n",
       "      <td>55.0</td>\n",
       "      <td>277</td>\n",
       "      <td>57</td>\n",
       "      <td>60.0</td>\n",
       "      <td>64</td>\n",
       "      <td>58</td>\n",
       "      <td>38</td>\n",
       "      <td>257</td>\n",
       "      <td>61</td>\n",
       "      <td>57.0</td>\n",
       "      <td>31.0</td>\n",
       "      <td>54.0</td>\n",
       "      <td>54</td>\n",
       "      <td>48.0</td>\n",
       "      <td>168</td>\n",
       "      <td>55</td>\n",
       "      <td>58</td>\n",
       "      <td>55.0</td>\n",
       "      <td>42</td>\n",
       "      <td>8</td>\n",
       "      <td>9</td>\n",
       "      <td>6</td>\n",
       "      <td>7</td>\n",
       "      <td>12</td>\n",
       "      <td>1527</td>\n",
       "      <td>329</td>\n",
       "      <td>2 ★</td>\n",
       "      <td>2★</td>\n",
       "      <td>Medium</td>\n",
       "      <td>Medium</td>\n",
       "      <td>1 ★</td>\n",
       "      <td>57</td>\n",
       "      <td>44</td>\n",
       "      <td>54</td>\n",
       "      <td>57</td>\n",
       "      <td>57</td>\n",
       "      <td>60</td>\n",
       "      <td>7</td>\n",
       "      <td>50+2</td>\n",
       "      <td>50+2</td>\n",
       "      <td>50+2</td>\n",
       "      <td>51+0</td>\n",
       "      <td>51+0</td>\n",
       "      <td>51+0</td>\n",
       "      <td>51+0</td>\n",
       "      <td>51+0</td>\n",
       "      <td>53+2</td>\n",
       "      <td>53+2</td>\n",
       "      <td>53+2</td>\n",
       "      <td>53+2</td>\n",
       "      <td>56+2</td>\n",
       "      <td>56+2</td>\n",
       "      <td>56+2</td>\n",
       "      <td>53+2</td>\n",
       "      <td>56+2</td>\n",
       "      <td>58+2</td>\n",
       "      <td>58+2</td>\n",
       "      <td>58+2</td>\n",
       "      <td>56+2</td>\n",
       "      <td>57+2</td>\n",
       "      <td>58+2</td>\n",
       "      <td>58+2</td>\n",
       "      <td>58+2</td>\n",
       "      <td>57+2</td>\n",
       "      <td>14+2</td>\n",
       "      <td>59</td>\n",
       "    </tr>\n",
       "    <tr>\n",
       "      <th>4</th>\n",
       "      <td>Y. Demoncy</td>\n",
       "      <td>23</td>\n",
       "      <td>France</td>\n",
       "      <td>US Orléans Loiret Football</td>\n",
       "      <td>CDM</td>\n",
       "      <td>CDM CM</td>\n",
       "      <td>US Orléans Loiret Football 2018 ~ 2021</td>\n",
       "      <td>5'11\"</td>\n",
       "      <td>150lbs</td>\n",
       "      <td>Right</td>\n",
       "      <td>8</td>\n",
       "      <td>Jul 1, 2018</td>\n",
       "      <td>NaN</td>\n",
       "      <td>€725K</td>\n",
       "      <td>€2K</td>\n",
       "      <td>€1.4M</td>\n",
       "      <td>2018 ~ 2021</td>\n",
       "      <td>249</td>\n",
       "      <td>49</td>\n",
       "      <td>37</td>\n",
       "      <td>61</td>\n",
       "      <td>68</td>\n",
       "      <td>34.0</td>\n",
       "      <td>280</td>\n",
       "      <td>64</td>\n",
       "      <td>44.0</td>\n",
       "      <td>45</td>\n",
       "      <td>61</td>\n",
       "      <td>66</td>\n",
       "      <td>324</td>\n",
       "      <td>66</td>\n",
       "      <td>66</td>\n",
       "      <td>61.0</td>\n",
       "      <td>62</td>\n",
       "      <td>69.0</td>\n",
       "      <td>280</td>\n",
       "      <td>61</td>\n",
       "      <td>34.0</td>\n",
       "      <td>81</td>\n",
       "      <td>61</td>\n",
       "      <td>43</td>\n",
       "      <td>294</td>\n",
       "      <td>66</td>\n",
       "      <td>60.0</td>\n",
       "      <td>55.0</td>\n",
       "      <td>64.0</td>\n",
       "      <td>49</td>\n",
       "      <td>58.0</td>\n",
       "      <td>185</td>\n",
       "      <td>58</td>\n",
       "      <td>61</td>\n",
       "      <td>66.0</td>\n",
       "      <td>52</td>\n",
       "      <td>8</td>\n",
       "      <td>9</td>\n",
       "      <td>15</td>\n",
       "      <td>5</td>\n",
       "      <td>15</td>\n",
       "      <td>1664</td>\n",
       "      <td>360</td>\n",
       "      <td>2 ★</td>\n",
       "      <td>3★</td>\n",
       "      <td>Low</td>\n",
       "      <td>Medium</td>\n",
       "      <td>1 ★</td>\n",
       "      <td>66</td>\n",
       "      <td>44</td>\n",
       "      <td>60</td>\n",
       "      <td>64</td>\n",
       "      <td>60</td>\n",
       "      <td>66</td>\n",
       "      <td>4</td>\n",
       "      <td>56+2</td>\n",
       "      <td>56+2</td>\n",
       "      <td>56+2</td>\n",
       "      <td>59+0</td>\n",
       "      <td>59+0</td>\n",
       "      <td>59+0</td>\n",
       "      <td>59+0</td>\n",
       "      <td>59+0</td>\n",
       "      <td>61+2</td>\n",
       "      <td>61+2</td>\n",
       "      <td>61+2</td>\n",
       "      <td>62+2</td>\n",
       "      <td>63+2</td>\n",
       "      <td>63+2</td>\n",
       "      <td>63+2</td>\n",
       "      <td>62+2</td>\n",
       "      <td>64+2</td>\n",
       "      <td>64+2</td>\n",
       "      <td>64+2</td>\n",
       "      <td>64+2</td>\n",
       "      <td>64+2</td>\n",
       "      <td>63+2</td>\n",
       "      <td>61+2</td>\n",
       "      <td>61+2</td>\n",
       "      <td>61+2</td>\n",
       "      <td>63+2</td>\n",
       "      <td>15+2</td>\n",
       "      <td>65</td>\n",
       "    </tr>\n",
       "  </tbody>\n",
       "</table>\n",
       "</div>"
      ],
      "text/plain": [
       "            name  age  nationality                        club   bp  position  \\\n",
       "0      A. Pasche   26  Switzerland           FC Lausanne-Sport   CM    CM CDM   \n",
       "1  Alan Carvalho   30     China PR     Beijing Sinobo Guoan FC   ST  ST LW LM   \n",
       "2    S. Giovinco   33        Italy                    Al Hilal  CAM    CAM CF   \n",
       "3       J. Evans   22        Wales                Swansea City  CDM    CDM CM   \n",
       "4     Y. Demoncy   23       France  US Orléans Loiret Football  CDM    CDM CM   \n",
       "\n",
       "                                team_&_contract height  weight   foot  growth  \\\n",
       "0                 FC Lausanne-Sport 2015 ~ 2020   5'9\"  161lbs  Right       1   \n",
       "1  Beijing Sinobo Guoan FC Dec 31, 2020 On Loan   6'0\"  159lbs  Right       0   \n",
       "2                          Al Hilal 2019 ~ 2022   5'4\"  134lbs  Right       0   \n",
       "3                      Swansea City 2016 ~ 2021  5'10\"  152lbs  Right      13   \n",
       "4        US Orléans Loiret Football 2018 ~ 2021  5'11\"  150lbs  Right       8   \n",
       "\n",
       "         joined loan_date_end  value  wage release_clause  \\\n",
       "0   Jul 1, 2015           NaN  €525K   €4K          €801K   \n",
       "1  Jan 16, 2015  Dec 31, 2020  €8.5M  €23K             €0   \n",
       "2  Jan 31, 2019           NaN    €9M  €49K         €15.3M   \n",
       "3   Jul 1, 2016           NaN  €275K   €4K          €694K   \n",
       "4   Jul 1, 2018           NaN  €725K   €2K          €1.4M   \n",
       "\n",
       "               contract  attacking  crossing  finishing  heading_accuracy  \\\n",
       "0           2015 ~ 2020        258        54         47                43   \n",
       "1  Dec 31, 2020 On Loan        365        66         79                76   \n",
       "2           2019 ~ 2022        336        73         76                34   \n",
       "3           2016 ~ 2021        242        44         42                58   \n",
       "4           2018 ~ 2021        249        49         37                61   \n",
       "\n",
       "   short_passing  volleys  skill  dribbling  curve  fk_accuracy  long_passing  \\\n",
       "0             70     44.0    286         61   44.0           55            63   \n",
       "1             68     76.0    375         83   78.0           72            63   \n",
       "2             78     75.0    424         85   89.0           91            74   \n",
       "3             62     36.0    259         54   41.0           46            57   \n",
       "4             68     34.0    280         64   44.0           45            61   \n",
       "\n",
       "   ball_control  movement  acceleration  sprint_speed  agility  reactions  \\\n",
       "0            63       346            64            73     61.0         66   \n",
       "1            79       404            83            83     88.0         75   \n",
       "2            85       424            84            76     93.0         78   \n",
       "3            61       282            54            59     59.0         55   \n",
       "4            66       324            66            66     61.0         62   \n",
       "\n",
       "   balance  power  shot_power  jumping  stamina  strength  long_shots  \\\n",
       "0     82.0    306          62     73.0       71        55          45   \n",
       "1     75.0    372          74     81.0       75        74          68   \n",
       "2     93.0    308          79     34.0       75        42          78   \n",
       "3     55.0    277          57     60.0       64        58          38   \n",
       "4     69.0    280          61     34.0       81        61          43   \n",
       "\n",
       "   mentality  aggression  interceptions  positioning  vision  penalties  \\\n",
       "0        290          54           52.0         62.0    68.0         54   \n",
       "1        313          54           33.0         78.0    72.0         76   \n",
       "2        332          75           26.0         80.0    78.0         73   \n",
       "3        257          61           57.0         31.0    54.0         54   \n",
       "4        294          66           60.0         55.0    64.0         49   \n",
       "\n",
       "   composure  defending  marking  standing_tackle  sliding_tackle  \\\n",
       "0       54.0        148       49               56            43.0   \n",
       "1       70.0         77       35               20            22.0   \n",
       "2       82.0         80       23               29            28.0   \n",
       "3       48.0        168       55               58            55.0   \n",
       "4       58.0        185       58               61            66.0   \n",
       "\n",
       "   goalkeeping  gk_diving  gk_handling  gk_kicking  gk_positioning  \\\n",
       "0           48          7           12          14               9   \n",
       "1           55         11            7          14               7   \n",
       "2           21          6            3           6               3   \n",
       "3           42          8            9           6               7   \n",
       "4           52          8            9          15               5   \n",
       "\n",
       "   gk_reflexes  total_stats  base_stats  w/f  sm     a/w     d/w   ir  pac  \\\n",
       "0            6         1682         357  4 ★  2★    High  Medium  1 ★   69   \n",
       "1           16         1961         412  3 ★  4★    High     Low  2 ★   83   \n",
       "2            3         1925         404  4 ★  4★    High  Medium  2 ★   80   \n",
       "3           12         1527         329  2 ★  2★  Medium  Medium  1 ★   57   \n",
       "4           15         1664         360  2 ★  3★     Low  Medium  1 ★   66   \n",
       "\n",
       "   sho  pas  dri  def  phy hits    ls    st    rs    lw    lf    cf    rf  \\\n",
       "0   51   63   63   51   60    3  58+1  58+1  58+1  61+0  62+0  62+0  62+0   \n",
       "1   75   68   82   33   71   44  77+0  77+0  77+0  77+0  77+0  77+0  77+0   \n",
       "2   77   78   86   27   56   73  73+2  73+2  73+2  80+0  79+0  79+0  79+0   \n",
       "3   44   54   57   57   60    7  50+2  50+2  50+2  51+0  51+0  51+0  51+0   \n",
       "4   44   60   64   60   66    4  56+2  56+2  56+2  59+0  59+0  59+0  59+0   \n",
       "\n",
       "     rw   lam   cam   ram    lm   lcm    cm   rcm    rm   lwb   ldm   cdm  \\\n",
       "0  61+0  63+1  63+1  63+1  63+1  63+1  63+1  63+1  63+1  59+1  59+1  59+1   \n",
       "1  77+0  76+1  76+1  76+1  76+1  68+2  68+2  68+2  76+1  57+2  53+2  53+2   \n",
       "2  80+0  80+0  80+0  80+0  79+1  74+2  74+2  74+2  79+1  59+2  56+2  56+2   \n",
       "3  51+0  53+2  53+2  53+2  53+2  56+2  56+2  56+2  53+2  56+2  58+2  58+2   \n",
       "4  59+0  61+2  61+2  61+2  62+2  63+2  63+2  63+2  62+2  64+2  64+2  64+2   \n",
       "\n",
       "    rdm   rwb    lb   lcb    cb   rcb    rb    gk  ova  \n",
       "0  59+1  59+1  58+1  54+1  54+1  54+1  58+1  15+1   64  \n",
       "1  53+2  57+2  53+2  48+2  48+2  48+2  53+2  18+2   77  \n",
       "2  56+2  59+2  53+2  41+2  41+2  41+2  53+2  12+2   80  \n",
       "3  58+2  56+2  57+2  58+2  58+2  58+2  57+2  14+2   59  \n",
       "4  64+2  64+2  63+2  61+2  61+2  61+2  63+2  15+2   65  "
      ]
     },
     "execution_count": 149,
     "metadata": {},
     "output_type": "execute_result"
    }
   ],
   "source": [
    "data.head(5)"
   ]
  },
  {
   "cell_type": "code",
   "execution_count": 150,
   "metadata": {},
   "outputs": [
    {
     "data": {
      "text/plain": [
       "898"
      ]
     },
     "execution_count": 150,
     "metadata": {},
     "output_type": "execute_result"
    }
   ],
   "source": [
    "len(data['club'].unique())"
   ]
  },
  {
   "cell_type": "code",
   "execution_count": 151,
   "metadata": {},
   "outputs": [
    {
     "data": {
      "text/plain": [
       "(13700, 100)"
      ]
     },
     "execution_count": 151,
     "metadata": {},
     "output_type": "execute_result"
    }
   ],
   "source": [
    "data.shape"
   ]
  },
  {
   "cell_type": "code",
   "execution_count": 152,
   "metadata": {},
   "outputs": [
    {
     "data": {
      "text/plain": [
       "13064"
      ]
     },
     "execution_count": 152,
     "metadata": {},
     "output_type": "execute_result"
    }
   ],
   "source": [
    "#some duplicated names, we will not remove names\n",
    "len(data['name'].unique())"
   ]
  },
  {
   "cell_type": "markdown",
   "metadata": {},
   "source": [
    "## Check Datatypes"
   ]
  },
  {
   "cell_type": "code",
   "execution_count": 153,
   "metadata": {},
   "outputs": [
    {
     "data": {
      "text/plain": [
       "name                 object\n",
       "age                   int64\n",
       "nationality          object\n",
       "club                 object\n",
       "bp                   object\n",
       "position             object\n",
       "team_&_contract      object\n",
       "height               object\n",
       "weight               object\n",
       "foot                 object\n",
       "growth                int64\n",
       "joined               object\n",
       "loan_date_end        object\n",
       "value                object\n",
       "wage                 object\n",
       "release_clause       object\n",
       "contract             object\n",
       "attacking             int64\n",
       "crossing              int64\n",
       "finishing             int64\n",
       "heading_accuracy      int64\n",
       "short_passing         int64\n",
       "volleys             float64\n",
       "skill                 int64\n",
       "dribbling             int64\n",
       "curve               float64\n",
       "fk_accuracy           int64\n",
       "long_passing          int64\n",
       "ball_control          int64\n",
       "movement              int64\n",
       "acceleration          int64\n",
       "sprint_speed          int64\n",
       "agility             float64\n",
       "reactions             int64\n",
       "balance             float64\n",
       "power                 int64\n",
       "shot_power            int64\n",
       "jumping             float64\n",
       "stamina               int64\n",
       "strength              int64\n",
       "long_shots            int64\n",
       "mentality             int64\n",
       "aggression            int64\n",
       "interceptions       float64\n",
       "positioning         float64\n",
       "vision              float64\n",
       "penalties             int64\n",
       "composure           float64\n",
       "defending             int64\n",
       "marking               int64\n",
       "standing_tackle       int64\n",
       "sliding_tackle      float64\n",
       "goalkeeping           int64\n",
       "gk_diving             int64\n",
       "gk_handling           int64\n",
       "gk_kicking            int64\n",
       "gk_positioning        int64\n",
       "gk_reflexes           int64\n",
       "total_stats           int64\n",
       "base_stats            int64\n",
       "w/f                  object\n",
       "sm                   object\n",
       "a/w                  object\n",
       "d/w                  object\n",
       "ir                   object\n",
       "pac                   int64\n",
       "sho                   int64\n",
       "pas                   int64\n",
       "dri                   int64\n",
       "def                   int64\n",
       "phy                   int64\n",
       "hits                 object\n",
       "ls                   object\n",
       "st                   object\n",
       "rs                   object\n",
       "lw                   object\n",
       "lf                   object\n",
       "cf                   object\n",
       "rf                   object\n",
       "rw                   object\n",
       "lam                  object\n",
       "cam                  object\n",
       "ram                  object\n",
       "lm                   object\n",
       "lcm                  object\n",
       "cm                   object\n",
       "rcm                  object\n",
       "rm                   object\n",
       "lwb                  object\n",
       "ldm                  object\n",
       "cdm                  object\n",
       "rdm                  object\n",
       "rwb                  object\n",
       "lb                   object\n",
       "lcb                  object\n",
       "cb                   object\n",
       "rcb                  object\n",
       "rb                   object\n",
       "gk                   object\n",
       "ova                   int64\n",
       "dtype: object"
      ]
     },
     "execution_count": 153,
     "metadata": {},
     "output_type": "execute_result"
    }
   ],
   "source": [
    "#everything looks correct according to the data type, did not change\n",
    "data.dtypes"
   ]
  },
  {
   "cell_type": "code",
   "execution_count": 154,
   "metadata": {},
   "outputs": [
    {
     "data": {
      "text/plain": [
       "(13700, 100)"
      ]
     },
     "execution_count": 154,
     "metadata": {},
     "output_type": "execute_result"
    }
   ],
   "source": [
    "data.shape"
   ]
  },
  {
   "cell_type": "markdown",
   "metadata": {},
   "source": [
    "## Check for unique values colunn"
   ]
  },
  {
   "cell_type": "code",
   "execution_count": 155,
   "metadata": {},
   "outputs": [],
   "source": [
    "#use this on split columns later\n",
    "#we will split data and run it through this function in order to remove the unique value columns\n",
    "#data1 = data.iloc[:,0:4]\n",
    "\n",
    "#def check_unique (df):\n",
    " #   for val in df.columns:\n",
    " #       if (len(data[val].unique())) == len(data[val]):\n",
    " #           df.drop([val], axis = 1)\n",
    "  #  return df\n",
    "\n",
    "#print(check_unique(data1))\n",
    "#print(check_unique(data(data.columns[3]))) "
   ]
  },
  {
   "cell_type": "markdown",
   "metadata": {},
   "source": [
    "## Check Duplicates"
   ]
  },
  {
   "cell_type": "code",
   "execution_count": 156,
   "metadata": {},
   "outputs": [
    {
     "data": {
      "text/plain": [
       "(13700, 100)"
      ]
     },
     "execution_count": 156,
     "metadata": {},
     "output_type": "execute_result"
    }
   ],
   "source": [
    "data.shape"
   ]
  },
  {
   "cell_type": "code",
   "execution_count": 157,
   "metadata": {},
   "outputs": [
    {
     "data": {
      "text/plain": [
       "(13700, 100)"
      ]
     },
     "execution_count": 157,
     "metadata": {},
     "output_type": "execute_result"
    }
   ],
   "source": [
    "#after removing duplicates: No duplicates were found\n",
    "data = data.drop_duplicates()\n",
    "data.shape"
   ]
  },
  {
   "cell_type": "code",
   "execution_count": 158,
   "metadata": {},
   "outputs": [
    {
     "data": {
      "text/plain": [
       "(13700, 100)"
      ]
     },
     "execution_count": 158,
     "metadata": {},
     "output_type": "execute_result"
    }
   ],
   "source": [
    "data.shape"
   ]
  },
  {
   "cell_type": "markdown",
   "metadata": {},
   "source": [
    "### Deal with NaN values #"
   ]
  },
  {
   "cell_type": "code",
   "execution_count": 159,
   "metadata": {},
   "outputs": [
    {
     "data": {
      "text/plain": [
       "name                    0\n",
       "age                     0\n",
       "nationality             0\n",
       "club                   21\n",
       "bp                      0\n",
       "position              343\n",
       "team_&_contract         0\n",
       "height                  0\n",
       "weight                  0\n",
       "foot                    0\n",
       "growth                  0\n",
       "joined                 44\n",
       "loan_date_end       12961\n",
       "value                   0\n",
       "wage                    0\n",
       "release_clause          0\n",
       "contract                0\n",
       "attacking               0\n",
       "crossing                0\n",
       "finishing               0\n",
       "heading_accuracy        0\n",
       "short_passing           0\n",
       "volleys                44\n",
       "skill                   0\n",
       "dribbling               0\n",
       "curve                  44\n",
       "fk_accuracy             0\n",
       "long_passing            0\n",
       "ball_control            0\n",
       "movement                0\n",
       "acceleration            0\n",
       "sprint_speed            0\n",
       "agility                44\n",
       "reactions               0\n",
       "balance                44\n",
       "power                   0\n",
       "shot_power              0\n",
       "jumping                44\n",
       "stamina                 0\n",
       "strength                0\n",
       "long_shots              0\n",
       "mentality               0\n",
       "aggression              0\n",
       "interceptions           7\n",
       "positioning             7\n",
       "vision                 44\n",
       "penalties               0\n",
       "composure             329\n",
       "defending               0\n",
       "marking                 0\n",
       "standing_tackle         0\n",
       "sliding_tackle         44\n",
       "goalkeeping             0\n",
       "gk_diving               0\n",
       "gk_handling             0\n",
       "gk_kicking              0\n",
       "gk_positioning          0\n",
       "gk_reflexes             0\n",
       "total_stats             0\n",
       "base_stats              0\n",
       "w/f                     0\n",
       "sm                      0\n",
       "a/w                    67\n",
       "d/w                    67\n",
       "ir                      0\n",
       "pac                     0\n",
       "sho                     0\n",
       "pas                     0\n",
       "dri                     0\n",
       "def                     0\n",
       "phy                     0\n",
       "hits                    0\n",
       "ls                      0\n",
       "st                      0\n",
       "rs                      0\n",
       "lw                      0\n",
       "lf                      0\n",
       "cf                      0\n",
       "rf                      0\n",
       "rw                      0\n",
       "lam                     0\n",
       "cam                     0\n",
       "ram                     0\n",
       "lm                      0\n",
       "lcm                     0\n",
       "cm                      0\n",
       "rcm                     0\n",
       "rm                      0\n",
       "lwb                     0\n",
       "ldm                     0\n",
       "cdm                     0\n",
       "rdm                     0\n",
       "rwb                     0\n",
       "lb                      0\n",
       "lcb                     0\n",
       "cb                      0\n",
       "rcb                     0\n",
       "rb                      0\n",
       "gk                      0\n",
       "ova                     0\n",
       "dtype: int64"
      ]
     },
     "execution_count": 159,
     "metadata": {},
     "output_type": "execute_result"
    }
   ],
   "source": [
    "data.isna().sum()"
   ]
  },
  {
   "cell_type": "code",
   "execution_count": 160,
   "metadata": {},
   "outputs": [
    {
     "data": {
      "text/plain": [
       "name                 0.00\n",
       "age                  0.00\n",
       "nationality          0.00\n",
       "club                 0.15\n",
       "bp                   0.00\n",
       "position             2.50\n",
       "team_&_contract      0.00\n",
       "height               0.00\n",
       "weight               0.00\n",
       "foot                 0.00\n",
       "growth               0.00\n",
       "joined               0.32\n",
       "loan_date_end       94.61\n",
       "value                0.00\n",
       "wage                 0.00\n",
       "release_clause       0.00\n",
       "contract             0.00\n",
       "attacking            0.00\n",
       "crossing             0.00\n",
       "finishing            0.00\n",
       "heading_accuracy     0.00\n",
       "short_passing        0.00\n",
       "volleys              0.32\n",
       "skill                0.00\n",
       "dribbling            0.00\n",
       "curve                0.32\n",
       "fk_accuracy          0.00\n",
       "long_passing         0.00\n",
       "ball_control         0.00\n",
       "movement             0.00\n",
       "acceleration         0.00\n",
       "sprint_speed         0.00\n",
       "agility              0.32\n",
       "reactions            0.00\n",
       "balance              0.32\n",
       "power                0.00\n",
       "shot_power           0.00\n",
       "jumping              0.32\n",
       "stamina              0.00\n",
       "strength             0.00\n",
       "long_shots           0.00\n",
       "mentality            0.00\n",
       "aggression           0.00\n",
       "interceptions        0.05\n",
       "positioning          0.05\n",
       "vision               0.32\n",
       "penalties            0.00\n",
       "composure            2.40\n",
       "defending            0.00\n",
       "marking              0.00\n",
       "standing_tackle      0.00\n",
       "sliding_tackle       0.32\n",
       "goalkeeping          0.00\n",
       "gk_diving            0.00\n",
       "gk_handling          0.00\n",
       "gk_kicking           0.00\n",
       "gk_positioning       0.00\n",
       "gk_reflexes          0.00\n",
       "total_stats          0.00\n",
       "base_stats           0.00\n",
       "w/f                  0.00\n",
       "sm                   0.00\n",
       "a/w                  0.49\n",
       "d/w                  0.49\n",
       "ir                   0.00\n",
       "pac                  0.00\n",
       "sho                  0.00\n",
       "pas                  0.00\n",
       "dri                  0.00\n",
       "def                  0.00\n",
       "phy                  0.00\n",
       "hits                 0.00\n",
       "ls                   0.00\n",
       "st                   0.00\n",
       "rs                   0.00\n",
       "lw                   0.00\n",
       "lf                   0.00\n",
       "cf                   0.00\n",
       "rf                   0.00\n",
       "rw                   0.00\n",
       "lam                  0.00\n",
       "cam                  0.00\n",
       "ram                  0.00\n",
       "lm                   0.00\n",
       "lcm                  0.00\n",
       "cm                   0.00\n",
       "rcm                  0.00\n",
       "rm                   0.00\n",
       "lwb                  0.00\n",
       "ldm                  0.00\n",
       "cdm                  0.00\n",
       "rdm                  0.00\n",
       "rwb                  0.00\n",
       "lb                   0.00\n",
       "lcb                  0.00\n",
       "cb                   0.00\n",
       "rcb                  0.00\n",
       "rb                   0.00\n",
       "gk                   0.00\n",
       "ova                  0.00\n",
       "dtype: float64"
      ]
     },
     "execution_count": 160,
     "metadata": {},
     "output_type": "execute_result"
    }
   ],
   "source": [
    "round(data.isna().sum()/len(data),4) * 100  # shows the percentage of null values in a column"
   ]
  },
  {
   "cell_type": "code",
   "execution_count": 161,
   "metadata": {},
   "outputs": [],
   "source": [
    "#we need to drop loan_date_end because it has 95% missing values\n",
    "data = data.drop(['loan_date_end'], axis=1)"
   ]
  },
  {
   "cell_type": "code",
   "execution_count": 162,
   "metadata": {},
   "outputs": [],
   "source": [
    "#drop NaNs\n",
    "data=data.dropna()"
   ]
  },
  {
   "cell_type": "code",
   "execution_count": 163,
   "metadata": {},
   "outputs": [
    {
     "data": {
      "text/plain": [
       "(13124, 99)"
      ]
     },
     "execution_count": 163,
     "metadata": {},
     "output_type": "execute_result"
    }
   ],
   "source": [
    "data.shape"
   ]
  },
  {
   "cell_type": "markdown",
   "metadata": {},
   "source": [
    "## Split data into categorical and numerical"
   ]
  },
  {
   "cell_type": "code",
   "execution_count": 164,
   "metadata": {},
   "outputs": [],
   "source": [
    "X_num = data.select_dtypes(include=np.number)"
   ]
  },
  {
   "cell_type": "code",
   "execution_count": 165,
   "metadata": {},
   "outputs": [],
   "source": [
    "X_cat = data.select_dtypes(include=np.object)"
   ]
  },
  {
   "cell_type": "code",
   "execution_count": 166,
   "metadata": {},
   "outputs": [
    {
     "data": {
      "text/plain": [
       "Index(['age', 'growth', 'attacking', 'crossing', 'finishing',\n",
       "       'heading_accuracy', 'short_passing', 'volleys', 'skill', 'dribbling',\n",
       "       'curve', 'fk_accuracy', 'long_passing', 'ball_control', 'movement',\n",
       "       'acceleration', 'sprint_speed', 'agility', 'reactions', 'balance',\n",
       "       'power', 'shot_power', 'jumping', 'stamina', 'strength', 'long_shots',\n",
       "       'mentality', 'aggression', 'interceptions', 'positioning', 'vision',\n",
       "       'penalties', 'composure', 'defending', 'marking', 'standing_tackle',\n",
       "       'sliding_tackle', 'goalkeeping', 'gk_diving', 'gk_handling',\n",
       "       'gk_kicking', 'gk_positioning', 'gk_reflexes', 'total_stats',\n",
       "       'base_stats', 'pac', 'sho', 'pas', 'dri', 'def', 'phy', 'ova'],\n",
       "      dtype='object')"
      ]
     },
     "execution_count": 166,
     "metadata": {},
     "output_type": "execute_result"
    }
   ],
   "source": [
    "X_num.columns"
   ]
  },
  {
   "cell_type": "code",
   "execution_count": 167,
   "metadata": {},
   "outputs": [
    {
     "data": {
      "text/plain": [
       "52"
      ]
     },
     "execution_count": 167,
     "metadata": {},
     "output_type": "execute_result"
    }
   ],
   "source": [
    "len(X_num.columns)"
   ]
  },
  {
   "cell_type": "markdown",
   "metadata": {},
   "source": [
    "## Split data further into individual group work tasks (numerical data into 2 batches)"
   ]
  },
  {
   "cell_type": "code",
   "execution_count": 168,
   "metadata": {},
   "outputs": [],
   "source": [
    "X_num1 = X_num.iloc[:,0:26]\n",
    "X_num2 = X_num.iloc[:,26:52]"
   ]
  },
  {
   "cell_type": "code",
   "execution_count": 169,
   "metadata": {},
   "outputs": [
    {
     "data": {
      "text/plain": [
       "Index(['age', 'growth', 'attacking', 'crossing', 'finishing',\n",
       "       'heading_accuracy', 'short_passing', 'volleys', 'skill', 'dribbling',\n",
       "       'curve', 'fk_accuracy', 'long_passing', 'ball_control', 'movement',\n",
       "       'acceleration', 'sprint_speed', 'agility', 'reactions', 'balance',\n",
       "       'power', 'shot_power', 'jumping', 'stamina', 'strength', 'long_shots'],\n",
       "      dtype='object')"
      ]
     },
     "execution_count": 169,
     "metadata": {},
     "output_type": "execute_result"
    }
   ],
   "source": [
    "X_num1.columns"
   ]
  },
  {
   "cell_type": "code",
   "execution_count": 170,
   "metadata": {},
   "outputs": [
    {
     "data": {
      "text/plain": [
       "Index(['mentality', 'aggression', 'interceptions', 'positioning', 'vision',\n",
       "       'penalties', 'composure', 'defending', 'marking', 'standing_tackle',\n",
       "       'sliding_tackle', 'goalkeeping', 'gk_diving', 'gk_handling',\n",
       "       'gk_kicking', 'gk_positioning', 'gk_reflexes', 'total_stats',\n",
       "       'base_stats', 'pac', 'sho', 'pas', 'dri', 'def', 'phy', 'ova'],\n",
       "      dtype='object')"
      ]
     },
     "execution_count": 170,
     "metadata": {},
     "output_type": "execute_result"
    }
   ],
   "source": [
    "X_num2.columns"
   ]
  },
  {
   "cell_type": "code",
   "execution_count": 171,
   "metadata": {},
   "outputs": [],
   "source": [
    "#for val in X_num1.columns:\n",
    "#    sns.distplot(X_num1[val])\n",
    "#    plt.show()"
   ]
  },
  {
   "cell_type": "markdown",
   "metadata": {},
   "source": [
    "## our findings on assumption of normalized data:"
   ]
  },
  {
   "cell_type": "code",
   "execution_count": 172,
   "metadata": {},
   "outputs": [],
   "source": [
    "#we applies box cox - did not work because of some of the column values are negative\n",
    "#we applied manual log transformation - it skewed our data more than original\n",
    "#we have better original data by considering the assumption of normalized data"
   ]
  },
  {
   "cell_type": "code",
   "execution_count": 173,
   "metadata": {},
   "outputs": [],
   "source": [
    "#checking if they looks the same as before\n",
    "#for val in X_num1.columns:\n",
    "#    sns.distplot(X_num1[val])\n",
    "#    plt.show()"
   ]
  },
  {
   "cell_type": "code",
   "execution_count": 174,
   "metadata": {},
   "outputs": [],
   "source": [
    "#for val in X_num1:\n",
    " ##   sns.boxplot(x=X_num1[val])\n",
    "#sns.boxplot(x=[],data=data)\n",
    " #   plt.show()"
   ]
  },
  {
   "cell_type": "code",
   "execution_count": 175,
   "metadata": {},
   "outputs": [],
   "source": [
    "#now we apply heatmap to check multicollinearity of X_num1 numerical columns"
   ]
  },
  {
   "cell_type": "code",
   "execution_count": 176,
   "metadata": {},
   "outputs": [],
   "source": [
    "#correlations_matrix = X_num1.corr()\n",
    "#mask = np.zeros_like(correlations_matrix)\n",
    "#mask[np.triu_indices_from(mask)] = True\n",
    "#fig, ax = plt.subplots(figsize=(25, 10))\n",
    "#ax = sns.heatmap(correlations_matrix, mask=mask, annot=True)\n",
    "#plt.show()"
   ]
  },
  {
   "cell_type": "code",
   "execution_count": 177,
   "metadata": {},
   "outputs": [],
   "source": [
    "#takeaways from the heatmaps: we will remove age,dribbling, curve,fk_accuracy,long_passing, ball_control, long_shots, movement, sprint_speed, agility, balance"
   ]
  },
  {
   "cell_type": "code",
   "execution_count": 178,
   "metadata": {},
   "outputs": [],
   "source": [
    "#strong_correlation = ([age,growth],[skill,dribbling],[skill,curve],[skill, fk_accuracy],[skill,long_passing],[skill,ball_control],[dribbling,ball_control],[movement,accelaration],[movement,agility],[acceleration,sprint_speed],[acceleration,agility])"
   ]
  },
  {
   "cell_type": "code",
   "execution_count": 179,
   "metadata": {},
   "outputs": [],
   "source": [
    "dropping_columns1 = ['age','dribbling','curve','fk_accuracy','long_passing','ball_control','long_shots','movement','sprint_speed','agility','balance']"
   ]
  },
  {
   "cell_type": "code",
   "execution_count": 180,
   "metadata": {},
   "outputs": [],
   "source": [
    "for val in dropping_columns1:\n",
    "    X_num1 = X_num1.drop([val], axis =1)"
   ]
  },
  {
   "cell_type": "code",
   "execution_count": 181,
   "metadata": {},
   "outputs": [
    {
     "data": {
      "text/plain": [
       "Index(['growth', 'attacking', 'crossing', 'finishing', 'heading_accuracy',\n",
       "       'short_passing', 'volleys', 'skill', 'acceleration', 'reactions',\n",
       "       'power', 'shot_power', 'jumping', 'stamina', 'strength'],\n",
       "      dtype='object')"
      ]
     },
     "execution_count": 181,
     "metadata": {},
     "output_type": "execute_result"
    }
   ],
   "source": [
    "X_num1.columns"
   ]
  },
  {
   "cell_type": "markdown",
   "metadata": {},
   "source": [
    "### X_num1.head()"
   ]
  },
  {
   "cell_type": "code",
   "execution_count": 182,
   "metadata": {},
   "outputs": [],
   "source": [
    "#repeat process for batch X_num2"
   ]
  },
  {
   "cell_type": "code",
   "execution_count": 183,
   "metadata": {},
   "outputs": [],
   "source": [
    "#for val in X_num2.columns:\n",
    "#    sns.distplot(X_num2[val])\n",
    "#    plt.show()"
   ]
  },
  {
   "cell_type": "code",
   "execution_count": 184,
   "metadata": {},
   "outputs": [],
   "source": [
    "#since 'ova' is our target column (Y), we will separate it from our dataset"
   ]
  },
  {
   "cell_type": "code",
   "execution_count": 185,
   "metadata": {},
   "outputs": [],
   "source": [
    "Y = X_num2['ova']\n",
    "X_num2 = X_num2.drop(['ova'], axis =1)"
   ]
  },
  {
   "cell_type": "code",
   "execution_count": 186,
   "metadata": {},
   "outputs": [
    {
     "data": {
      "text/html": [
       "<div>\n",
       "<style scoped>\n",
       "    .dataframe tbody tr th:only-of-type {\n",
       "        vertical-align: middle;\n",
       "    }\n",
       "\n",
       "    .dataframe tbody tr th {\n",
       "        vertical-align: top;\n",
       "    }\n",
       "\n",
       "    .dataframe thead th {\n",
       "        text-align: right;\n",
       "    }\n",
       "</style>\n",
       "<table border=\"1\" class=\"dataframe\">\n",
       "  <thead>\n",
       "    <tr style=\"text-align: right;\">\n",
       "      <th></th>\n",
       "      <th>mentality</th>\n",
       "      <th>aggression</th>\n",
       "      <th>interceptions</th>\n",
       "      <th>positioning</th>\n",
       "      <th>vision</th>\n",
       "      <th>penalties</th>\n",
       "      <th>composure</th>\n",
       "      <th>defending</th>\n",
       "      <th>marking</th>\n",
       "      <th>standing_tackle</th>\n",
       "      <th>sliding_tackle</th>\n",
       "      <th>goalkeeping</th>\n",
       "      <th>gk_diving</th>\n",
       "      <th>gk_handling</th>\n",
       "      <th>gk_kicking</th>\n",
       "      <th>gk_positioning</th>\n",
       "      <th>gk_reflexes</th>\n",
       "      <th>total_stats</th>\n",
       "      <th>base_stats</th>\n",
       "      <th>pac</th>\n",
       "      <th>sho</th>\n",
       "      <th>pas</th>\n",
       "      <th>dri</th>\n",
       "      <th>def</th>\n",
       "      <th>phy</th>\n",
       "    </tr>\n",
       "  </thead>\n",
       "  <tbody>\n",
       "    <tr>\n",
       "      <th>0</th>\n",
       "      <td>290</td>\n",
       "      <td>54</td>\n",
       "      <td>52.0</td>\n",
       "      <td>62.0</td>\n",
       "      <td>68.0</td>\n",
       "      <td>54</td>\n",
       "      <td>54.0</td>\n",
       "      <td>148</td>\n",
       "      <td>49</td>\n",
       "      <td>56</td>\n",
       "      <td>43.0</td>\n",
       "      <td>48</td>\n",
       "      <td>7</td>\n",
       "      <td>12</td>\n",
       "      <td>14</td>\n",
       "      <td>9</td>\n",
       "      <td>6</td>\n",
       "      <td>1682</td>\n",
       "      <td>357</td>\n",
       "      <td>69</td>\n",
       "      <td>51</td>\n",
       "      <td>63</td>\n",
       "      <td>63</td>\n",
       "      <td>51</td>\n",
       "      <td>60</td>\n",
       "    </tr>\n",
       "  </tbody>\n",
       "</table>\n",
       "</div>"
      ],
      "text/plain": [
       "   mentality  aggression  interceptions  positioning  vision  penalties  \\\n",
       "0        290          54           52.0         62.0    68.0         54   \n",
       "\n",
       "   composure  defending  marking  standing_tackle  sliding_tackle  \\\n",
       "0       54.0        148       49               56            43.0   \n",
       "\n",
       "   goalkeeping  gk_diving  gk_handling  gk_kicking  gk_positioning  \\\n",
       "0           48          7           12          14               9   \n",
       "\n",
       "   gk_reflexes  total_stats  base_stats  pac  sho  pas  dri  def  phy  \n",
       "0            6         1682         357   69   51   63   63   51   60  "
      ]
     },
     "execution_count": 186,
     "metadata": {},
     "output_type": "execute_result"
    }
   ],
   "source": [
    "X_num2.head(1)"
   ]
  },
  {
   "cell_type": "code",
   "execution_count": 187,
   "metadata": {},
   "outputs": [
    {
     "data": {
      "text/plain": [
       "0    64\n",
       "1    77\n",
       "2    80\n",
       "Name: ova, dtype: int64"
      ]
     },
     "execution_count": 187,
     "metadata": {},
     "output_type": "execute_result"
    }
   ],
   "source": [
    "Y.head(3)"
   ]
  },
  {
   "cell_type": "code",
   "execution_count": 188,
   "metadata": {},
   "outputs": [],
   "source": [
    "#here we also take the original values and compare with log transformation on each column, the data after normalization does not look better so we take the original distribution"
   ]
  },
  {
   "cell_type": "code",
   "execution_count": 189,
   "metadata": {},
   "outputs": [],
   "source": [
    "#we cannot try box cox because of negative values"
   ]
  },
  {
   "cell_type": "code",
   "execution_count": 190,
   "metadata": {},
   "outputs": [],
   "source": [
    "#correlations_matrix = X_num2.corr()\n",
    "#mask = np.zeros_like(correlations_matrix)\n",
    "#mask[np.triu_indices_from(mask)] = True\n",
    "#fig, ax = plt.subplots(figsize=(25, 10))\n",
    "#ax = sns.heatmap(correlations_matrix, mask=mask, annot=True)\n",
    "#plt.show()"
   ]
  },
  {
   "cell_type": "code",
   "execution_count": 191,
   "metadata": {},
   "outputs": [],
   "source": [
    "dropping_columns2 = ['aggression','positioning','penalties','total_stats','defending','marking','standing_tackle','sliding_tackle']\n",
    "dropping_columns2 = set(dropping_columns2)"
   ]
  },
  {
   "cell_type": "code",
   "execution_count": 192,
   "metadata": {},
   "outputs": [],
   "source": [
    "for val in dropping_columns2:\n",
    "    X_num2 = X_num2.drop([val], axis =1)"
   ]
  },
  {
   "cell_type": "code",
   "execution_count": 193,
   "metadata": {},
   "outputs": [
    {
     "data": {
      "text/plain": [
       "Index(['mentality', 'interceptions', 'vision', 'composure', 'goalkeeping',\n",
       "       'gk_diving', 'gk_handling', 'gk_kicking', 'gk_positioning',\n",
       "       'gk_reflexes', 'base_stats', 'pac', 'sho', 'pas', 'dri', 'def', 'phy'],\n",
       "      dtype='object')"
      ]
     },
     "execution_count": 193,
     "metadata": {},
     "output_type": "execute_result"
    }
   ],
   "source": [
    "X_num2.columns"
   ]
  },
  {
   "cell_type": "code",
   "execution_count": 194,
   "metadata": {},
   "outputs": [
    {
     "data": {
      "text/html": [
       "<div>\n",
       "<style scoped>\n",
       "    .dataframe tbody tr th:only-of-type {\n",
       "        vertical-align: middle;\n",
       "    }\n",
       "\n",
       "    .dataframe tbody tr th {\n",
       "        vertical-align: top;\n",
       "    }\n",
       "\n",
       "    .dataframe thead th {\n",
       "        text-align: right;\n",
       "    }\n",
       "</style>\n",
       "<table border=\"1\" class=\"dataframe\">\n",
       "  <thead>\n",
       "    <tr style=\"text-align: right;\">\n",
       "      <th></th>\n",
       "      <th>mentality</th>\n",
       "      <th>interceptions</th>\n",
       "      <th>vision</th>\n",
       "      <th>composure</th>\n",
       "      <th>goalkeeping</th>\n",
       "      <th>gk_diving</th>\n",
       "      <th>gk_handling</th>\n",
       "      <th>gk_kicking</th>\n",
       "      <th>gk_positioning</th>\n",
       "      <th>gk_reflexes</th>\n",
       "      <th>base_stats</th>\n",
       "      <th>pac</th>\n",
       "      <th>sho</th>\n",
       "      <th>pas</th>\n",
       "      <th>dri</th>\n",
       "      <th>def</th>\n",
       "      <th>phy</th>\n",
       "    </tr>\n",
       "  </thead>\n",
       "  <tbody>\n",
       "    <tr>\n",
       "      <th>0</th>\n",
       "      <td>290</td>\n",
       "      <td>52.0</td>\n",
       "      <td>68.0</td>\n",
       "      <td>54.0</td>\n",
       "      <td>48</td>\n",
       "      <td>7</td>\n",
       "      <td>12</td>\n",
       "      <td>14</td>\n",
       "      <td>9</td>\n",
       "      <td>6</td>\n",
       "      <td>357</td>\n",
       "      <td>69</td>\n",
       "      <td>51</td>\n",
       "      <td>63</td>\n",
       "      <td>63</td>\n",
       "      <td>51</td>\n",
       "      <td>60</td>\n",
       "    </tr>\n",
       "    <tr>\n",
       "      <th>1</th>\n",
       "      <td>313</td>\n",
       "      <td>33.0</td>\n",
       "      <td>72.0</td>\n",
       "      <td>70.0</td>\n",
       "      <td>55</td>\n",
       "      <td>11</td>\n",
       "      <td>7</td>\n",
       "      <td>14</td>\n",
       "      <td>7</td>\n",
       "      <td>16</td>\n",
       "      <td>412</td>\n",
       "      <td>83</td>\n",
       "      <td>75</td>\n",
       "      <td>68</td>\n",
       "      <td>82</td>\n",
       "      <td>33</td>\n",
       "      <td>71</td>\n",
       "    </tr>\n",
       "    <tr>\n",
       "      <th>2</th>\n",
       "      <td>332</td>\n",
       "      <td>26.0</td>\n",
       "      <td>78.0</td>\n",
       "      <td>82.0</td>\n",
       "      <td>21</td>\n",
       "      <td>6</td>\n",
       "      <td>3</td>\n",
       "      <td>6</td>\n",
       "      <td>3</td>\n",
       "      <td>3</td>\n",
       "      <td>404</td>\n",
       "      <td>80</td>\n",
       "      <td>77</td>\n",
       "      <td>78</td>\n",
       "      <td>86</td>\n",
       "      <td>27</td>\n",
       "      <td>56</td>\n",
       "    </tr>\n",
       "  </tbody>\n",
       "</table>\n",
       "</div>"
      ],
      "text/plain": [
       "   mentality  interceptions  vision  composure  goalkeeping  gk_diving  \\\n",
       "0        290           52.0    68.0       54.0           48          7   \n",
       "1        313           33.0    72.0       70.0           55         11   \n",
       "2        332           26.0    78.0       82.0           21          6   \n",
       "\n",
       "   gk_handling  gk_kicking  gk_positioning  gk_reflexes  base_stats  pac  sho  \\\n",
       "0           12          14               9            6         357   69   51   \n",
       "1            7          14               7           16         412   83   75   \n",
       "2            3           6               3            3         404   80   77   \n",
       "\n",
       "   pas  dri  def  phy  \n",
       "0   63   63   51   60  \n",
       "1   68   82   33   71  \n",
       "2   78   86   27   56  "
      ]
     },
     "execution_count": 194,
     "metadata": {},
     "output_type": "execute_result"
    }
   ],
   "source": [
    "X_num2.head(3)"
   ]
  },
  {
   "cell_type": "code",
   "execution_count": 195,
   "metadata": {},
   "outputs": [
    {
     "data": {
      "text/plain": [
       "(13124, 17)"
      ]
     },
     "execution_count": 195,
     "metadata": {},
     "output_type": "execute_result"
    }
   ],
   "source": [
    "X_num2.shape"
   ]
  },
  {
   "cell_type": "code",
   "execution_count": 196,
   "metadata": {},
   "outputs": [],
   "source": [
    "X_num3 = pd.concat([X_num1, X_num2], axis = 1)"
   ]
  },
  {
   "cell_type": "code",
   "execution_count": 197,
   "metadata": {},
   "outputs": [
    {
     "data": {
      "text/html": [
       "<div>\n",
       "<style scoped>\n",
       "    .dataframe tbody tr th:only-of-type {\n",
       "        vertical-align: middle;\n",
       "    }\n",
       "\n",
       "    .dataframe tbody tr th {\n",
       "        vertical-align: top;\n",
       "    }\n",
       "\n",
       "    .dataframe thead th {\n",
       "        text-align: right;\n",
       "    }\n",
       "</style>\n",
       "<table border=\"1\" class=\"dataframe\">\n",
       "  <thead>\n",
       "    <tr style=\"text-align: right;\">\n",
       "      <th></th>\n",
       "      <th>name</th>\n",
       "      <th>age</th>\n",
       "      <th>nationality</th>\n",
       "      <th>club</th>\n",
       "      <th>bp</th>\n",
       "      <th>position</th>\n",
       "      <th>team_&amp;_contract</th>\n",
       "      <th>height</th>\n",
       "      <th>weight</th>\n",
       "      <th>foot</th>\n",
       "      <th>growth</th>\n",
       "      <th>joined</th>\n",
       "      <th>value</th>\n",
       "      <th>wage</th>\n",
       "      <th>release_clause</th>\n",
       "      <th>contract</th>\n",
       "      <th>attacking</th>\n",
       "      <th>crossing</th>\n",
       "      <th>finishing</th>\n",
       "      <th>heading_accuracy</th>\n",
       "      <th>short_passing</th>\n",
       "      <th>volleys</th>\n",
       "      <th>skill</th>\n",
       "      <th>dribbling</th>\n",
       "      <th>curve</th>\n",
       "      <th>fk_accuracy</th>\n",
       "      <th>long_passing</th>\n",
       "      <th>ball_control</th>\n",
       "      <th>movement</th>\n",
       "      <th>acceleration</th>\n",
       "      <th>sprint_speed</th>\n",
       "      <th>agility</th>\n",
       "      <th>reactions</th>\n",
       "      <th>balance</th>\n",
       "      <th>power</th>\n",
       "      <th>shot_power</th>\n",
       "      <th>jumping</th>\n",
       "      <th>stamina</th>\n",
       "      <th>strength</th>\n",
       "      <th>long_shots</th>\n",
       "      <th>mentality</th>\n",
       "      <th>aggression</th>\n",
       "      <th>interceptions</th>\n",
       "      <th>positioning</th>\n",
       "      <th>vision</th>\n",
       "      <th>penalties</th>\n",
       "      <th>composure</th>\n",
       "      <th>defending</th>\n",
       "      <th>marking</th>\n",
       "      <th>standing_tackle</th>\n",
       "      <th>sliding_tackle</th>\n",
       "      <th>goalkeeping</th>\n",
       "      <th>gk_diving</th>\n",
       "      <th>gk_handling</th>\n",
       "      <th>gk_kicking</th>\n",
       "      <th>gk_positioning</th>\n",
       "      <th>gk_reflexes</th>\n",
       "      <th>total_stats</th>\n",
       "      <th>base_stats</th>\n",
       "      <th>w/f</th>\n",
       "      <th>sm</th>\n",
       "      <th>a/w</th>\n",
       "      <th>d/w</th>\n",
       "      <th>ir</th>\n",
       "      <th>pac</th>\n",
       "      <th>sho</th>\n",
       "      <th>pas</th>\n",
       "      <th>dri</th>\n",
       "      <th>def</th>\n",
       "      <th>phy</th>\n",
       "      <th>hits</th>\n",
       "      <th>ls</th>\n",
       "      <th>st</th>\n",
       "      <th>rs</th>\n",
       "      <th>lw</th>\n",
       "      <th>lf</th>\n",
       "      <th>cf</th>\n",
       "      <th>rf</th>\n",
       "      <th>rw</th>\n",
       "      <th>lam</th>\n",
       "      <th>cam</th>\n",
       "      <th>ram</th>\n",
       "      <th>lm</th>\n",
       "      <th>lcm</th>\n",
       "      <th>cm</th>\n",
       "      <th>rcm</th>\n",
       "      <th>rm</th>\n",
       "      <th>lwb</th>\n",
       "      <th>ldm</th>\n",
       "      <th>cdm</th>\n",
       "      <th>rdm</th>\n",
       "      <th>rwb</th>\n",
       "      <th>lb</th>\n",
       "      <th>lcb</th>\n",
       "      <th>cb</th>\n",
       "      <th>rcb</th>\n",
       "      <th>rb</th>\n",
       "      <th>gk</th>\n",
       "      <th>ova</th>\n",
       "    </tr>\n",
       "  </thead>\n",
       "  <tbody>\n",
       "    <tr>\n",
       "      <th>0</th>\n",
       "      <td>A. Pasche</td>\n",
       "      <td>26</td>\n",
       "      <td>Switzerland</td>\n",
       "      <td>FC Lausanne-Sport</td>\n",
       "      <td>CM</td>\n",
       "      <td>CM CDM</td>\n",
       "      <td>FC Lausanne-Sport 2015 ~ 2020</td>\n",
       "      <td>5'9\"</td>\n",
       "      <td>161lbs</td>\n",
       "      <td>Right</td>\n",
       "      <td>1</td>\n",
       "      <td>Jul 1, 2015</td>\n",
       "      <td>€525K</td>\n",
       "      <td>€4K</td>\n",
       "      <td>€801K</td>\n",
       "      <td>2015 ~ 2020</td>\n",
       "      <td>258</td>\n",
       "      <td>54</td>\n",
       "      <td>47</td>\n",
       "      <td>43</td>\n",
       "      <td>70</td>\n",
       "      <td>44.0</td>\n",
       "      <td>286</td>\n",
       "      <td>61</td>\n",
       "      <td>44.0</td>\n",
       "      <td>55</td>\n",
       "      <td>63</td>\n",
       "      <td>63</td>\n",
       "      <td>346</td>\n",
       "      <td>64</td>\n",
       "      <td>73</td>\n",
       "      <td>61.0</td>\n",
       "      <td>66</td>\n",
       "      <td>82.0</td>\n",
       "      <td>306</td>\n",
       "      <td>62</td>\n",
       "      <td>73.0</td>\n",
       "      <td>71</td>\n",
       "      <td>55</td>\n",
       "      <td>45</td>\n",
       "      <td>290</td>\n",
       "      <td>54</td>\n",
       "      <td>52.0</td>\n",
       "      <td>62.0</td>\n",
       "      <td>68.0</td>\n",
       "      <td>54</td>\n",
       "      <td>54.0</td>\n",
       "      <td>148</td>\n",
       "      <td>49</td>\n",
       "      <td>56</td>\n",
       "      <td>43.0</td>\n",
       "      <td>48</td>\n",
       "      <td>7</td>\n",
       "      <td>12</td>\n",
       "      <td>14</td>\n",
       "      <td>9</td>\n",
       "      <td>6</td>\n",
       "      <td>1682</td>\n",
       "      <td>357</td>\n",
       "      <td>4 ★</td>\n",
       "      <td>2★</td>\n",
       "      <td>High</td>\n",
       "      <td>Medium</td>\n",
       "      <td>1 ★</td>\n",
       "      <td>69</td>\n",
       "      <td>51</td>\n",
       "      <td>63</td>\n",
       "      <td>63</td>\n",
       "      <td>51</td>\n",
       "      <td>60</td>\n",
       "      <td>3</td>\n",
       "      <td>58+1</td>\n",
       "      <td>58+1</td>\n",
       "      <td>58+1</td>\n",
       "      <td>61+0</td>\n",
       "      <td>62+0</td>\n",
       "      <td>62+0</td>\n",
       "      <td>62+0</td>\n",
       "      <td>61+0</td>\n",
       "      <td>63+1</td>\n",
       "      <td>63+1</td>\n",
       "      <td>63+1</td>\n",
       "      <td>63+1</td>\n",
       "      <td>63+1</td>\n",
       "      <td>63+1</td>\n",
       "      <td>63+1</td>\n",
       "      <td>63+1</td>\n",
       "      <td>59+1</td>\n",
       "      <td>59+1</td>\n",
       "      <td>59+1</td>\n",
       "      <td>59+1</td>\n",
       "      <td>59+1</td>\n",
       "      <td>58+1</td>\n",
       "      <td>54+1</td>\n",
       "      <td>54+1</td>\n",
       "      <td>54+1</td>\n",
       "      <td>58+1</td>\n",
       "      <td>15+1</td>\n",
       "      <td>64</td>\n",
       "    </tr>\n",
       "  </tbody>\n",
       "</table>\n",
       "</div>"
      ],
      "text/plain": [
       "        name  age  nationality               club  bp position  \\\n",
       "0  A. Pasche   26  Switzerland  FC Lausanne-Sport  CM   CM CDM   \n",
       "\n",
       "                 team_&_contract height  weight   foot  growth       joined  \\\n",
       "0  FC Lausanne-Sport 2015 ~ 2020   5'9\"  161lbs  Right       1  Jul 1, 2015   \n",
       "\n",
       "   value wage release_clause     contract  attacking  crossing  finishing  \\\n",
       "0  €525K  €4K          €801K  2015 ~ 2020        258        54         47   \n",
       "\n",
       "   heading_accuracy  short_passing  volleys  skill  dribbling  curve  \\\n",
       "0                43             70     44.0    286         61   44.0   \n",
       "\n",
       "   fk_accuracy  long_passing  ball_control  movement  acceleration  \\\n",
       "0           55            63            63       346            64   \n",
       "\n",
       "   sprint_speed  agility  reactions  balance  power  shot_power  jumping  \\\n",
       "0            73     61.0         66     82.0    306          62     73.0   \n",
       "\n",
       "   stamina  strength  long_shots  mentality  aggression  interceptions  \\\n",
       "0       71        55          45        290          54           52.0   \n",
       "\n",
       "   positioning  vision  penalties  composure  defending  marking  \\\n",
       "0         62.0    68.0         54       54.0        148       49   \n",
       "\n",
       "   standing_tackle  sliding_tackle  goalkeeping  gk_diving  gk_handling  \\\n",
       "0               56            43.0           48          7           12   \n",
       "\n",
       "   gk_kicking  gk_positioning  gk_reflexes  total_stats  base_stats  w/f  sm  \\\n",
       "0          14               9            6         1682         357  4 ★  2★   \n",
       "\n",
       "    a/w     d/w   ir  pac  sho  pas  dri  def  phy hits    ls    st    rs  \\\n",
       "0  High  Medium  1 ★   69   51   63   63   51   60    3  58+1  58+1  58+1   \n",
       "\n",
       "     lw    lf    cf    rf    rw   lam   cam   ram    lm   lcm    cm   rcm  \\\n",
       "0  61+0  62+0  62+0  62+0  61+0  63+1  63+1  63+1  63+1  63+1  63+1  63+1   \n",
       "\n",
       "     rm   lwb   ldm   cdm   rdm   rwb    lb   lcb    cb   rcb    rb    gk  ova  \n",
       "0  63+1  59+1  59+1  59+1  59+1  59+1  58+1  54+1  54+1  54+1  58+1  15+1   64  "
      ]
     },
     "execution_count": 197,
     "metadata": {},
     "output_type": "execute_result"
    }
   ],
   "source": [
    "data.head(1)"
   ]
  },
  {
   "cell_type": "code",
   "execution_count": 198,
   "metadata": {},
   "outputs": [
    {
     "data": {
      "text/html": [
       "<div>\n",
       "<style scoped>\n",
       "    .dataframe tbody tr th:only-of-type {\n",
       "        vertical-align: middle;\n",
       "    }\n",
       "\n",
       "    .dataframe tbody tr th {\n",
       "        vertical-align: top;\n",
       "    }\n",
       "\n",
       "    .dataframe thead th {\n",
       "        text-align: right;\n",
       "    }\n",
       "</style>\n",
       "<table border=\"1\" class=\"dataframe\">\n",
       "  <thead>\n",
       "    <tr style=\"text-align: right;\">\n",
       "      <th></th>\n",
       "      <th>growth</th>\n",
       "      <th>attacking</th>\n",
       "      <th>crossing</th>\n",
       "      <th>finishing</th>\n",
       "      <th>heading_accuracy</th>\n",
       "      <th>short_passing</th>\n",
       "      <th>volleys</th>\n",
       "      <th>skill</th>\n",
       "      <th>acceleration</th>\n",
       "      <th>reactions</th>\n",
       "      <th>power</th>\n",
       "      <th>shot_power</th>\n",
       "      <th>jumping</th>\n",
       "      <th>stamina</th>\n",
       "      <th>strength</th>\n",
       "      <th>mentality</th>\n",
       "      <th>interceptions</th>\n",
       "      <th>vision</th>\n",
       "      <th>composure</th>\n",
       "      <th>goalkeeping</th>\n",
       "      <th>gk_diving</th>\n",
       "      <th>gk_handling</th>\n",
       "      <th>gk_kicking</th>\n",
       "      <th>gk_positioning</th>\n",
       "      <th>gk_reflexes</th>\n",
       "      <th>base_stats</th>\n",
       "      <th>pac</th>\n",
       "      <th>sho</th>\n",
       "      <th>pas</th>\n",
       "      <th>dri</th>\n",
       "      <th>def</th>\n",
       "      <th>phy</th>\n",
       "    </tr>\n",
       "  </thead>\n",
       "  <tbody>\n",
       "    <tr>\n",
       "      <th>0</th>\n",
       "      <td>1</td>\n",
       "      <td>258</td>\n",
       "      <td>54</td>\n",
       "      <td>47</td>\n",
       "      <td>43</td>\n",
       "      <td>70</td>\n",
       "      <td>44.0</td>\n",
       "      <td>286</td>\n",
       "      <td>64</td>\n",
       "      <td>66</td>\n",
       "      <td>306</td>\n",
       "      <td>62</td>\n",
       "      <td>73.0</td>\n",
       "      <td>71</td>\n",
       "      <td>55</td>\n",
       "      <td>290</td>\n",
       "      <td>52.0</td>\n",
       "      <td>68.0</td>\n",
       "      <td>54.0</td>\n",
       "      <td>48</td>\n",
       "      <td>7</td>\n",
       "      <td>12</td>\n",
       "      <td>14</td>\n",
       "      <td>9</td>\n",
       "      <td>6</td>\n",
       "      <td>357</td>\n",
       "      <td>69</td>\n",
       "      <td>51</td>\n",
       "      <td>63</td>\n",
       "      <td>63</td>\n",
       "      <td>51</td>\n",
       "      <td>60</td>\n",
       "    </tr>\n",
       "    <tr>\n",
       "      <th>1</th>\n",
       "      <td>0</td>\n",
       "      <td>365</td>\n",
       "      <td>66</td>\n",
       "      <td>79</td>\n",
       "      <td>76</td>\n",
       "      <td>68</td>\n",
       "      <td>76.0</td>\n",
       "      <td>375</td>\n",
       "      <td>83</td>\n",
       "      <td>75</td>\n",
       "      <td>372</td>\n",
       "      <td>74</td>\n",
       "      <td>81.0</td>\n",
       "      <td>75</td>\n",
       "      <td>74</td>\n",
       "      <td>313</td>\n",
       "      <td>33.0</td>\n",
       "      <td>72.0</td>\n",
       "      <td>70.0</td>\n",
       "      <td>55</td>\n",
       "      <td>11</td>\n",
       "      <td>7</td>\n",
       "      <td>14</td>\n",
       "      <td>7</td>\n",
       "      <td>16</td>\n",
       "      <td>412</td>\n",
       "      <td>83</td>\n",
       "      <td>75</td>\n",
       "      <td>68</td>\n",
       "      <td>82</td>\n",
       "      <td>33</td>\n",
       "      <td>71</td>\n",
       "    </tr>\n",
       "    <tr>\n",
       "      <th>2</th>\n",
       "      <td>0</td>\n",
       "      <td>336</td>\n",
       "      <td>73</td>\n",
       "      <td>76</td>\n",
       "      <td>34</td>\n",
       "      <td>78</td>\n",
       "      <td>75.0</td>\n",
       "      <td>424</td>\n",
       "      <td>84</td>\n",
       "      <td>78</td>\n",
       "      <td>308</td>\n",
       "      <td>79</td>\n",
       "      <td>34.0</td>\n",
       "      <td>75</td>\n",
       "      <td>42</td>\n",
       "      <td>332</td>\n",
       "      <td>26.0</td>\n",
       "      <td>78.0</td>\n",
       "      <td>82.0</td>\n",
       "      <td>21</td>\n",
       "      <td>6</td>\n",
       "      <td>3</td>\n",
       "      <td>6</td>\n",
       "      <td>3</td>\n",
       "      <td>3</td>\n",
       "      <td>404</td>\n",
       "      <td>80</td>\n",
       "      <td>77</td>\n",
       "      <td>78</td>\n",
       "      <td>86</td>\n",
       "      <td>27</td>\n",
       "      <td>56</td>\n",
       "    </tr>\n",
       "  </tbody>\n",
       "</table>\n",
       "</div>"
      ],
      "text/plain": [
       "   growth  attacking  crossing  finishing  heading_accuracy  short_passing  \\\n",
       "0       1        258        54         47                43             70   \n",
       "1       0        365        66         79                76             68   \n",
       "2       0        336        73         76                34             78   \n",
       "\n",
       "   volleys  skill  acceleration  reactions  power  shot_power  jumping  \\\n",
       "0     44.0    286            64         66    306          62     73.0   \n",
       "1     76.0    375            83         75    372          74     81.0   \n",
       "2     75.0    424            84         78    308          79     34.0   \n",
       "\n",
       "   stamina  strength  mentality  interceptions  vision  composure  \\\n",
       "0       71        55        290           52.0    68.0       54.0   \n",
       "1       75        74        313           33.0    72.0       70.0   \n",
       "2       75        42        332           26.0    78.0       82.0   \n",
       "\n",
       "   goalkeeping  gk_diving  gk_handling  gk_kicking  gk_positioning  \\\n",
       "0           48          7           12          14               9   \n",
       "1           55         11            7          14               7   \n",
       "2           21          6            3           6               3   \n",
       "\n",
       "   gk_reflexes  base_stats  pac  sho  pas  dri  def  phy  \n",
       "0            6         357   69   51   63   63   51   60  \n",
       "1           16         412   83   75   68   82   33   71  \n",
       "2            3         404   80   77   78   86   27   56  "
      ]
     },
     "execution_count": 198,
     "metadata": {},
     "output_type": "execute_result"
    }
   ],
   "source": [
    "X_num3.head(3)"
   ]
  },
  {
   "cell_type": "code",
   "execution_count": 199,
   "metadata": {},
   "outputs": [],
   "source": [
    "#for val in X_num3.columns:\n",
    "#    sns.distplot(X_num3[val])\n",
    " #   plt.show()"
   ]
  },
  {
   "cell_type": "markdown",
   "metadata": {},
   "source": [
    "### Categorical Features #"
   ]
  },
  {
   "cell_type": "code",
   "execution_count": 200,
   "metadata": {},
   "outputs": [],
   "source": [
    "#dealing with strange string columns with + figures >> converted into numerical columns and added up numbers"
   ]
  },
  {
   "cell_type": "code",
   "execution_count": 201,
   "metadata": {},
   "outputs": [
    {
     "data": {
      "text/plain": [
       "(13124, 47)"
      ]
     },
     "execution_count": 201,
     "metadata": {},
     "output_type": "execute_result"
    }
   ],
   "source": [
    "X_cat.shape"
   ]
  },
  {
   "cell_type": "code",
   "execution_count": 202,
   "metadata": {},
   "outputs": [
    {
     "name": "stdout",
     "output_type": "stream",
     "text": [
      "65\n"
     ]
    }
   ],
   "source": [
    "def my_nice_figures(x):\n",
    "    x = x.split('+')\n",
    "    return int(x[0]) + int(x[1])\n",
    "\n",
    "print(my_nice_figures('65+0'))"
   ]
  },
  {
   "cell_type": "code",
   "execution_count": 203,
   "metadata": {},
   "outputs": [],
   "source": [
    "X_cat1 = X_cat.iloc[:,20:47]\n",
    "    "
   ]
  },
  {
   "cell_type": "code",
   "execution_count": 204,
   "metadata": {},
   "outputs": [
    {
     "data": {
      "text/html": [
       "<div>\n",
       "<style scoped>\n",
       "    .dataframe tbody tr th:only-of-type {\n",
       "        vertical-align: middle;\n",
       "    }\n",
       "\n",
       "    .dataframe tbody tr th {\n",
       "        vertical-align: top;\n",
       "    }\n",
       "\n",
       "    .dataframe thead th {\n",
       "        text-align: right;\n",
       "    }\n",
       "</style>\n",
       "<table border=\"1\" class=\"dataframe\">\n",
       "  <thead>\n",
       "    <tr style=\"text-align: right;\">\n",
       "      <th></th>\n",
       "      <th>ls</th>\n",
       "      <th>st</th>\n",
       "      <th>rs</th>\n",
       "      <th>lw</th>\n",
       "      <th>lf</th>\n",
       "      <th>cf</th>\n",
       "      <th>rf</th>\n",
       "      <th>rw</th>\n",
       "      <th>lam</th>\n",
       "      <th>cam</th>\n",
       "      <th>ram</th>\n",
       "      <th>lm</th>\n",
       "      <th>lcm</th>\n",
       "      <th>cm</th>\n",
       "      <th>rcm</th>\n",
       "      <th>rm</th>\n",
       "      <th>lwb</th>\n",
       "      <th>ldm</th>\n",
       "      <th>cdm</th>\n",
       "      <th>rdm</th>\n",
       "      <th>rwb</th>\n",
       "      <th>lb</th>\n",
       "      <th>lcb</th>\n",
       "      <th>cb</th>\n",
       "      <th>rcb</th>\n",
       "      <th>rb</th>\n",
       "      <th>gk</th>\n",
       "    </tr>\n",
       "  </thead>\n",
       "  <tbody>\n",
       "    <tr>\n",
       "      <th>0</th>\n",
       "      <td>58+1</td>\n",
       "      <td>58+1</td>\n",
       "      <td>58+1</td>\n",
       "      <td>61+0</td>\n",
       "      <td>62+0</td>\n",
       "      <td>62+0</td>\n",
       "      <td>62+0</td>\n",
       "      <td>61+0</td>\n",
       "      <td>63+1</td>\n",
       "      <td>63+1</td>\n",
       "      <td>63+1</td>\n",
       "      <td>63+1</td>\n",
       "      <td>63+1</td>\n",
       "      <td>63+1</td>\n",
       "      <td>63+1</td>\n",
       "      <td>63+1</td>\n",
       "      <td>59+1</td>\n",
       "      <td>59+1</td>\n",
       "      <td>59+1</td>\n",
       "      <td>59+1</td>\n",
       "      <td>59+1</td>\n",
       "      <td>58+1</td>\n",
       "      <td>54+1</td>\n",
       "      <td>54+1</td>\n",
       "      <td>54+1</td>\n",
       "      <td>58+1</td>\n",
       "      <td>15+1</td>\n",
       "    </tr>\n",
       "  </tbody>\n",
       "</table>\n",
       "</div>"
      ],
      "text/plain": [
       "     ls    st    rs    lw    lf    cf    rf    rw   lam   cam   ram    lm  \\\n",
       "0  58+1  58+1  58+1  61+0  62+0  62+0  62+0  61+0  63+1  63+1  63+1  63+1   \n",
       "\n",
       "    lcm    cm   rcm    rm   lwb   ldm   cdm   rdm   rwb    lb   lcb    cb  \\\n",
       "0  63+1  63+1  63+1  63+1  59+1  59+1  59+1  59+1  59+1  58+1  54+1  54+1   \n",
       "\n",
       "    rcb    rb    gk  \n",
       "0  54+1  58+1  15+1  "
      ]
     },
     "execution_count": 204,
     "metadata": {},
     "output_type": "execute_result"
    }
   ],
   "source": [
    "X_cat1.head(1)"
   ]
  },
  {
   "cell_type": "code",
   "execution_count": 205,
   "metadata": {},
   "outputs": [],
   "source": [
    "# awesome way of adding up column numbers quickly\n",
    "for val in X_cat1.columns:\n",
    "    X_cat1[val] = list(map(my_nice_figures, X_cat1[val]))"
   ]
  },
  {
   "cell_type": "code",
   "execution_count": 206,
   "metadata": {},
   "outputs": [
    {
     "data": {
      "text/plain": [
       "ls     int64\n",
       "st     int64\n",
       "rs     int64\n",
       "lw     int64\n",
       "lf     int64\n",
       "cf     int64\n",
       "rf     int64\n",
       "rw     int64\n",
       "lam    int64\n",
       "cam    int64\n",
       "ram    int64\n",
       "lm     int64\n",
       "lcm    int64\n",
       "cm     int64\n",
       "rcm    int64\n",
       "rm     int64\n",
       "lwb    int64\n",
       "ldm    int64\n",
       "cdm    int64\n",
       "rdm    int64\n",
       "rwb    int64\n",
       "lb     int64\n",
       "lcb    int64\n",
       "cb     int64\n",
       "rcb    int64\n",
       "rb     int64\n",
       "gk     int64\n",
       "dtype: object"
      ]
     },
     "execution_count": 206,
     "metadata": {},
     "output_type": "execute_result"
    }
   ],
   "source": [
    "X_cat1.dtypes"
   ]
  },
  {
   "cell_type": "code",
   "execution_count": 207,
   "metadata": {},
   "outputs": [
    {
     "data": {
      "text/html": [
       "<div>\n",
       "<style scoped>\n",
       "    .dataframe tbody tr th:only-of-type {\n",
       "        vertical-align: middle;\n",
       "    }\n",
       "\n",
       "    .dataframe tbody tr th {\n",
       "        vertical-align: top;\n",
       "    }\n",
       "\n",
       "    .dataframe thead th {\n",
       "        text-align: right;\n",
       "    }\n",
       "</style>\n",
       "<table border=\"1\" class=\"dataframe\">\n",
       "  <thead>\n",
       "    <tr style=\"text-align: right;\">\n",
       "      <th></th>\n",
       "      <th>ls</th>\n",
       "      <th>st</th>\n",
       "      <th>rs</th>\n",
       "      <th>lw</th>\n",
       "      <th>lf</th>\n",
       "      <th>cf</th>\n",
       "      <th>rf</th>\n",
       "      <th>rw</th>\n",
       "      <th>lam</th>\n",
       "      <th>cam</th>\n",
       "      <th>ram</th>\n",
       "      <th>lm</th>\n",
       "      <th>lcm</th>\n",
       "      <th>cm</th>\n",
       "      <th>rcm</th>\n",
       "      <th>rm</th>\n",
       "      <th>lwb</th>\n",
       "      <th>ldm</th>\n",
       "      <th>cdm</th>\n",
       "      <th>rdm</th>\n",
       "      <th>rwb</th>\n",
       "      <th>lb</th>\n",
       "      <th>lcb</th>\n",
       "      <th>cb</th>\n",
       "      <th>rcb</th>\n",
       "      <th>rb</th>\n",
       "      <th>gk</th>\n",
       "    </tr>\n",
       "  </thead>\n",
       "  <tbody>\n",
       "    <tr>\n",
       "      <th>0</th>\n",
       "      <td>59</td>\n",
       "      <td>59</td>\n",
       "      <td>59</td>\n",
       "      <td>61</td>\n",
       "      <td>62</td>\n",
       "      <td>62</td>\n",
       "      <td>62</td>\n",
       "      <td>61</td>\n",
       "      <td>64</td>\n",
       "      <td>64</td>\n",
       "      <td>64</td>\n",
       "      <td>64</td>\n",
       "      <td>64</td>\n",
       "      <td>64</td>\n",
       "      <td>64</td>\n",
       "      <td>64</td>\n",
       "      <td>60</td>\n",
       "      <td>60</td>\n",
       "      <td>60</td>\n",
       "      <td>60</td>\n",
       "      <td>60</td>\n",
       "      <td>59</td>\n",
       "      <td>55</td>\n",
       "      <td>55</td>\n",
       "      <td>55</td>\n",
       "      <td>59</td>\n",
       "      <td>16</td>\n",
       "    </tr>\n",
       "    <tr>\n",
       "      <th>1</th>\n",
       "      <td>77</td>\n",
       "      <td>77</td>\n",
       "      <td>77</td>\n",
       "      <td>77</td>\n",
       "      <td>77</td>\n",
       "      <td>77</td>\n",
       "      <td>77</td>\n",
       "      <td>77</td>\n",
       "      <td>77</td>\n",
       "      <td>77</td>\n",
       "      <td>77</td>\n",
       "      <td>77</td>\n",
       "      <td>70</td>\n",
       "      <td>70</td>\n",
       "      <td>70</td>\n",
       "      <td>77</td>\n",
       "      <td>59</td>\n",
       "      <td>55</td>\n",
       "      <td>55</td>\n",
       "      <td>55</td>\n",
       "      <td>59</td>\n",
       "      <td>55</td>\n",
       "      <td>50</td>\n",
       "      <td>50</td>\n",
       "      <td>50</td>\n",
       "      <td>55</td>\n",
       "      <td>20</td>\n",
       "    </tr>\n",
       "    <tr>\n",
       "      <th>2</th>\n",
       "      <td>75</td>\n",
       "      <td>75</td>\n",
       "      <td>75</td>\n",
       "      <td>80</td>\n",
       "      <td>79</td>\n",
       "      <td>79</td>\n",
       "      <td>79</td>\n",
       "      <td>80</td>\n",
       "      <td>80</td>\n",
       "      <td>80</td>\n",
       "      <td>80</td>\n",
       "      <td>80</td>\n",
       "      <td>76</td>\n",
       "      <td>76</td>\n",
       "      <td>76</td>\n",
       "      <td>80</td>\n",
       "      <td>61</td>\n",
       "      <td>58</td>\n",
       "      <td>58</td>\n",
       "      <td>58</td>\n",
       "      <td>61</td>\n",
       "      <td>55</td>\n",
       "      <td>43</td>\n",
       "      <td>43</td>\n",
       "      <td>43</td>\n",
       "      <td>55</td>\n",
       "      <td>14</td>\n",
       "    </tr>\n",
       "  </tbody>\n",
       "</table>\n",
       "</div>"
      ],
      "text/plain": [
       "   ls  st  rs  lw  lf  cf  rf  rw  lam  cam  ram  lm  lcm  cm  rcm  rm  lwb  \\\n",
       "0  59  59  59  61  62  62  62  61   64   64   64  64   64  64   64  64   60   \n",
       "1  77  77  77  77  77  77  77  77   77   77   77  77   70  70   70  77   59   \n",
       "2  75  75  75  80  79  79  79  80   80   80   80  80   76  76   76  80   61   \n",
       "\n",
       "   ldm  cdm  rdm  rwb  lb  lcb  cb  rcb  rb  gk  \n",
       "0   60   60   60   60  59   55  55   55  59  16  \n",
       "1   55   55   55   59  55   50  50   50  55  20  \n",
       "2   58   58   58   61  55   43  43   43  55  14  "
      ]
     },
     "execution_count": 207,
     "metadata": {},
     "output_type": "execute_result"
    }
   ],
   "source": [
    "X_cat1.head(3)"
   ]
  },
  {
   "cell_type": "code",
   "execution_count": 208,
   "metadata": {},
   "outputs": [],
   "source": [
    "#correlations_matrix = X_cat1.corr()\n",
    "#mask = np.zeros_like(correlations_matrix)\n",
    "#mask[np.triu_indices_from(mask)] = True\n",
    "#fig, ax = plt.subplots(figsize=(25, 10))\n",
    "#ax = sns.heatmap(correlations_matrix, mask=mask, annot=True)\n",
    "#plt.show()"
   ]
  },
  {
   "cell_type": "code",
   "execution_count": 209,
   "metadata": {},
   "outputs": [],
   "source": [
    "dropping_columns3 = ('rm','st','rs','lw','lf','rm','rcm','cm','lcm','lm','ram','cam','lam','rw','rf','cf','lf','lw','rs','st')\n",
    "dropping_columns3 = set(dropping_columns3)"
   ]
  },
  {
   "cell_type": "code",
   "execution_count": 210,
   "metadata": {},
   "outputs": [],
   "source": [
    "for val in dropping_columns3:\n",
    "    X_cat1 = X_cat1.drop([val], axis =1)"
   ]
  },
  {
   "cell_type": "code",
   "execution_count": 211,
   "metadata": {},
   "outputs": [
    {
     "data": {
      "text/html": [
       "<div>\n",
       "<style scoped>\n",
       "    .dataframe tbody tr th:only-of-type {\n",
       "        vertical-align: middle;\n",
       "    }\n",
       "\n",
       "    .dataframe tbody tr th {\n",
       "        vertical-align: top;\n",
       "    }\n",
       "\n",
       "    .dataframe thead th {\n",
       "        text-align: right;\n",
       "    }\n",
       "</style>\n",
       "<table border=\"1\" class=\"dataframe\">\n",
       "  <thead>\n",
       "    <tr style=\"text-align: right;\">\n",
       "      <th></th>\n",
       "      <th>ls</th>\n",
       "      <th>lwb</th>\n",
       "      <th>ldm</th>\n",
       "      <th>cdm</th>\n",
       "      <th>rdm</th>\n",
       "      <th>rwb</th>\n",
       "      <th>lb</th>\n",
       "      <th>lcb</th>\n",
       "      <th>cb</th>\n",
       "      <th>rcb</th>\n",
       "      <th>rb</th>\n",
       "      <th>gk</th>\n",
       "    </tr>\n",
       "  </thead>\n",
       "  <tbody>\n",
       "    <tr>\n",
       "      <th>0</th>\n",
       "      <td>59</td>\n",
       "      <td>60</td>\n",
       "      <td>60</td>\n",
       "      <td>60</td>\n",
       "      <td>60</td>\n",
       "      <td>60</td>\n",
       "      <td>59</td>\n",
       "      <td>55</td>\n",
       "      <td>55</td>\n",
       "      <td>55</td>\n",
       "      <td>59</td>\n",
       "      <td>16</td>\n",
       "    </tr>\n",
       "  </tbody>\n",
       "</table>\n",
       "</div>"
      ],
      "text/plain": [
       "   ls  lwb  ldm  cdm  rdm  rwb  lb  lcb  cb  rcb  rb  gk\n",
       "0  59   60   60   60   60   60  59   55  55   55  59  16"
      ]
     },
     "execution_count": 211,
     "metadata": {},
     "output_type": "execute_result"
    }
   ],
   "source": [
    "X_cat1.head(1)"
   ]
  },
  {
   "cell_type": "code",
   "execution_count": 212,
   "metadata": {},
   "outputs": [],
   "source": [
    "#distribution of new numerical columns\n",
    "#for val in X_cat1.columns:\n",
    " #   sns.distplot(X_cat1[val])\n",
    "  #  plt.show()"
   ]
  },
  {
   "cell_type": "code",
   "execution_count": 213,
   "metadata": {},
   "outputs": [],
   "source": [
    "#adding the new numerical columns to our main numerical dataset"
   ]
  },
  {
   "cell_type": "code",
   "execution_count": 214,
   "metadata": {},
   "outputs": [],
   "source": [
    "X_num3 = pd.concat([X_num3,X_cat1], axis = 1)"
   ]
  },
  {
   "cell_type": "code",
   "execution_count": 215,
   "metadata": {},
   "outputs": [
    {
     "data": {
      "text/plain": [
       "Index(['growth', 'attacking', 'crossing', 'finishing', 'heading_accuracy',\n",
       "       'short_passing', 'volleys', 'skill', 'acceleration', 'reactions',\n",
       "       'power', 'shot_power', 'jumping', 'stamina', 'strength', 'mentality',\n",
       "       'interceptions', 'vision', 'composure', 'goalkeeping', 'gk_diving',\n",
       "       'gk_handling', 'gk_kicking', 'gk_positioning', 'gk_reflexes',\n",
       "       'base_stats', 'pac', 'sho', 'pas', 'dri', 'def', 'phy', 'ls', 'lwb',\n",
       "       'ldm', 'cdm', 'rdm', 'rwb', 'lb', 'lcb', 'cb', 'rcb', 'rb', 'gk'],\n",
       "      dtype='object')"
      ]
     },
     "execution_count": 215,
     "metadata": {},
     "output_type": "execute_result"
    }
   ],
   "source": [
    "X_num3.columns"
   ]
  },
  {
   "cell_type": "code",
   "execution_count": 216,
   "metadata": {},
   "outputs": [],
   "source": [
    "#correlations_matrix = X_num3.corr()\n",
    "#mask = np.zeros_like(correlations_matrix)\n",
    "#mask[np.triu_indices_from(mask)] = True\n",
    "#fig, ax = plt.subplots(figsize=(25, 10))\n",
    "#ax = sns.heatmap(correlations_matrix, mask=mask, annot=True)\n",
    "#plt.show()"
   ]
  },
  {
   "cell_type": "code",
   "execution_count": 217,
   "metadata": {},
   "outputs": [],
   "source": [
    "dropping_columns4 = ['ls','goalkeeping','gk_diving','gk_handling','gk_kicking','gk_positioning','gk_reflexes',\n",
    "                     'lwb','ldm','cdm','rwb','lb','cb','rcb','rb']\n",
    "dropping_columns4 = set(dropping_columns4)"
   ]
  },
  {
   "cell_type": "code",
   "execution_count": 218,
   "metadata": {},
   "outputs": [],
   "source": [
    "for val in dropping_columns4:\n",
    "    X_num3 = X_num3.drop([val], axis =1)"
   ]
  },
  {
   "cell_type": "code",
   "execution_count": 219,
   "metadata": {},
   "outputs": [
    {
     "data": {
      "text/plain": [
       "(13124, 29)"
      ]
     },
     "execution_count": 219,
     "metadata": {},
     "output_type": "execute_result"
    }
   ],
   "source": [
    "X_num3.shape"
   ]
  },
  {
   "cell_type": "code",
   "execution_count": 220,
   "metadata": {},
   "outputs": [],
   "source": [
    "#X_num3.dtypes"
   ]
  },
  {
   "cell_type": "code",
   "execution_count": 221,
   "metadata": {},
   "outputs": [],
   "source": [
    "#checking 1 more time\n",
    "#correlations_matrix = X_num3.corr()\n",
    "#mask = np.zeros_like(correlations_matrix)\n",
    "#mask[np.triu_indices_from(mask)] = True\n",
    "#fig, ax = plt.subplots(figsize=(25, 10))\n",
    "#ax = sns.heatmap(correlations_matrix, mask=mask, annot=True)\n",
    "#plt.show()"
   ]
  },
  {
   "cell_type": "code",
   "execution_count": 222,
   "metadata": {},
   "outputs": [],
   "source": [
    "dropping_columns5 = ['phy','rdm','interceptions','attacking','short_passing']"
   ]
  },
  {
   "cell_type": "code",
   "execution_count": 223,
   "metadata": {},
   "outputs": [],
   "source": [
    "for val in dropping_columns5:\n",
    "    X_num3 = X_num3.drop([val], axis =1)"
   ]
  },
  {
   "cell_type": "code",
   "execution_count": 224,
   "metadata": {},
   "outputs": [
    {
     "data": {
      "text/plain": [
       "(13124, 24)"
      ]
     },
     "execution_count": 224,
     "metadata": {},
     "output_type": "execute_result"
    }
   ],
   "source": [
    "X_num3.shape"
   ]
  },
  {
   "cell_type": "markdown",
   "metadata": {},
   "source": [
    "### now working on actual categoricals"
   ]
  },
  {
   "cell_type": "code",
   "execution_count": 225,
   "metadata": {},
   "outputs": [
    {
     "data": {
      "text/html": [
       "<div>\n",
       "<style scoped>\n",
       "    .dataframe tbody tr th:only-of-type {\n",
       "        vertical-align: middle;\n",
       "    }\n",
       "\n",
       "    .dataframe tbody tr th {\n",
       "        vertical-align: top;\n",
       "    }\n",
       "\n",
       "    .dataframe thead th {\n",
       "        text-align: right;\n",
       "    }\n",
       "</style>\n",
       "<table border=\"1\" class=\"dataframe\">\n",
       "  <thead>\n",
       "    <tr style=\"text-align: right;\">\n",
       "      <th></th>\n",
       "      <th>name</th>\n",
       "      <th>nationality</th>\n",
       "      <th>club</th>\n",
       "      <th>bp</th>\n",
       "      <th>position</th>\n",
       "      <th>team_&amp;_contract</th>\n",
       "      <th>height</th>\n",
       "      <th>weight</th>\n",
       "      <th>foot</th>\n",
       "      <th>joined</th>\n",
       "      <th>value</th>\n",
       "      <th>wage</th>\n",
       "      <th>release_clause</th>\n",
       "      <th>contract</th>\n",
       "      <th>w/f</th>\n",
       "      <th>sm</th>\n",
       "      <th>a/w</th>\n",
       "      <th>d/w</th>\n",
       "      <th>ir</th>\n",
       "      <th>hits</th>\n",
       "      <th>ls</th>\n",
       "      <th>st</th>\n",
       "      <th>rs</th>\n",
       "      <th>lw</th>\n",
       "      <th>lf</th>\n",
       "      <th>cf</th>\n",
       "      <th>rf</th>\n",
       "      <th>rw</th>\n",
       "      <th>lam</th>\n",
       "      <th>cam</th>\n",
       "      <th>ram</th>\n",
       "      <th>lm</th>\n",
       "      <th>lcm</th>\n",
       "      <th>cm</th>\n",
       "      <th>rcm</th>\n",
       "      <th>rm</th>\n",
       "      <th>lwb</th>\n",
       "      <th>ldm</th>\n",
       "      <th>cdm</th>\n",
       "      <th>rdm</th>\n",
       "      <th>rwb</th>\n",
       "      <th>lb</th>\n",
       "      <th>lcb</th>\n",
       "      <th>cb</th>\n",
       "      <th>rcb</th>\n",
       "      <th>rb</th>\n",
       "      <th>gk</th>\n",
       "    </tr>\n",
       "  </thead>\n",
       "  <tbody>\n",
       "    <tr>\n",
       "      <th>0</th>\n",
       "      <td>A. Pasche</td>\n",
       "      <td>Switzerland</td>\n",
       "      <td>FC Lausanne-Sport</td>\n",
       "      <td>CM</td>\n",
       "      <td>CM CDM</td>\n",
       "      <td>FC Lausanne-Sport 2015 ~ 2020</td>\n",
       "      <td>5'9\"</td>\n",
       "      <td>161lbs</td>\n",
       "      <td>Right</td>\n",
       "      <td>Jul 1, 2015</td>\n",
       "      <td>€525K</td>\n",
       "      <td>€4K</td>\n",
       "      <td>€801K</td>\n",
       "      <td>2015 ~ 2020</td>\n",
       "      <td>4 ★</td>\n",
       "      <td>2★</td>\n",
       "      <td>High</td>\n",
       "      <td>Medium</td>\n",
       "      <td>1 ★</td>\n",
       "      <td>3</td>\n",
       "      <td>58+1</td>\n",
       "      <td>58+1</td>\n",
       "      <td>58+1</td>\n",
       "      <td>61+0</td>\n",
       "      <td>62+0</td>\n",
       "      <td>62+0</td>\n",
       "      <td>62+0</td>\n",
       "      <td>61+0</td>\n",
       "      <td>63+1</td>\n",
       "      <td>63+1</td>\n",
       "      <td>63+1</td>\n",
       "      <td>63+1</td>\n",
       "      <td>63+1</td>\n",
       "      <td>63+1</td>\n",
       "      <td>63+1</td>\n",
       "      <td>63+1</td>\n",
       "      <td>59+1</td>\n",
       "      <td>59+1</td>\n",
       "      <td>59+1</td>\n",
       "      <td>59+1</td>\n",
       "      <td>59+1</td>\n",
       "      <td>58+1</td>\n",
       "      <td>54+1</td>\n",
       "      <td>54+1</td>\n",
       "      <td>54+1</td>\n",
       "      <td>58+1</td>\n",
       "      <td>15+1</td>\n",
       "    </tr>\n",
       "    <tr>\n",
       "      <th>1</th>\n",
       "      <td>Alan Carvalho</td>\n",
       "      <td>China PR</td>\n",
       "      <td>Beijing Sinobo Guoan FC</td>\n",
       "      <td>ST</td>\n",
       "      <td>ST LW LM</td>\n",
       "      <td>Beijing Sinobo Guoan FC Dec 31, 2020 On Loan</td>\n",
       "      <td>6'0\"</td>\n",
       "      <td>159lbs</td>\n",
       "      <td>Right</td>\n",
       "      <td>Jan 16, 2015</td>\n",
       "      <td>€8.5M</td>\n",
       "      <td>€23K</td>\n",
       "      <td>€0</td>\n",
       "      <td>Dec 31, 2020 On Loan</td>\n",
       "      <td>3 ★</td>\n",
       "      <td>4★</td>\n",
       "      <td>High</td>\n",
       "      <td>Low</td>\n",
       "      <td>2 ★</td>\n",
       "      <td>44</td>\n",
       "      <td>77+0</td>\n",
       "      <td>77+0</td>\n",
       "      <td>77+0</td>\n",
       "      <td>77+0</td>\n",
       "      <td>77+0</td>\n",
       "      <td>77+0</td>\n",
       "      <td>77+0</td>\n",
       "      <td>77+0</td>\n",
       "      <td>76+1</td>\n",
       "      <td>76+1</td>\n",
       "      <td>76+1</td>\n",
       "      <td>76+1</td>\n",
       "      <td>68+2</td>\n",
       "      <td>68+2</td>\n",
       "      <td>68+2</td>\n",
       "      <td>76+1</td>\n",
       "      <td>57+2</td>\n",
       "      <td>53+2</td>\n",
       "      <td>53+2</td>\n",
       "      <td>53+2</td>\n",
       "      <td>57+2</td>\n",
       "      <td>53+2</td>\n",
       "      <td>48+2</td>\n",
       "      <td>48+2</td>\n",
       "      <td>48+2</td>\n",
       "      <td>53+2</td>\n",
       "      <td>18+2</td>\n",
       "    </tr>\n",
       "    <tr>\n",
       "      <th>2</th>\n",
       "      <td>S. Giovinco</td>\n",
       "      <td>Italy</td>\n",
       "      <td>Al Hilal</td>\n",
       "      <td>CAM</td>\n",
       "      <td>CAM CF</td>\n",
       "      <td>Al Hilal 2019 ~ 2022</td>\n",
       "      <td>5'4\"</td>\n",
       "      <td>134lbs</td>\n",
       "      <td>Right</td>\n",
       "      <td>Jan 31, 2019</td>\n",
       "      <td>€9M</td>\n",
       "      <td>€49K</td>\n",
       "      <td>€15.3M</td>\n",
       "      <td>2019 ~ 2022</td>\n",
       "      <td>4 ★</td>\n",
       "      <td>4★</td>\n",
       "      <td>High</td>\n",
       "      <td>Medium</td>\n",
       "      <td>2 ★</td>\n",
       "      <td>73</td>\n",
       "      <td>73+2</td>\n",
       "      <td>73+2</td>\n",
       "      <td>73+2</td>\n",
       "      <td>80+0</td>\n",
       "      <td>79+0</td>\n",
       "      <td>79+0</td>\n",
       "      <td>79+0</td>\n",
       "      <td>80+0</td>\n",
       "      <td>80+0</td>\n",
       "      <td>80+0</td>\n",
       "      <td>80+0</td>\n",
       "      <td>79+1</td>\n",
       "      <td>74+2</td>\n",
       "      <td>74+2</td>\n",
       "      <td>74+2</td>\n",
       "      <td>79+1</td>\n",
       "      <td>59+2</td>\n",
       "      <td>56+2</td>\n",
       "      <td>56+2</td>\n",
       "      <td>56+2</td>\n",
       "      <td>59+2</td>\n",
       "      <td>53+2</td>\n",
       "      <td>41+2</td>\n",
       "      <td>41+2</td>\n",
       "      <td>41+2</td>\n",
       "      <td>53+2</td>\n",
       "      <td>12+2</td>\n",
       "    </tr>\n",
       "  </tbody>\n",
       "</table>\n",
       "</div>"
      ],
      "text/plain": [
       "            name  nationality                     club   bp  position  \\\n",
       "0      A. Pasche  Switzerland        FC Lausanne-Sport   CM    CM CDM   \n",
       "1  Alan Carvalho     China PR  Beijing Sinobo Guoan FC   ST  ST LW LM   \n",
       "2    S. Giovinco        Italy                 Al Hilal  CAM    CAM CF   \n",
       "\n",
       "                                team_&_contract height  weight   foot  \\\n",
       "0                 FC Lausanne-Sport 2015 ~ 2020   5'9\"  161lbs  Right   \n",
       "1  Beijing Sinobo Guoan FC Dec 31, 2020 On Loan   6'0\"  159lbs  Right   \n",
       "2                          Al Hilal 2019 ~ 2022   5'4\"  134lbs  Right   \n",
       "\n",
       "         joined  value  wage release_clause              contract  w/f  sm  \\\n",
       "0   Jul 1, 2015  €525K   €4K          €801K           2015 ~ 2020  4 ★  2★   \n",
       "1  Jan 16, 2015  €8.5M  €23K             €0  Dec 31, 2020 On Loan  3 ★  4★   \n",
       "2  Jan 31, 2019    €9M  €49K         €15.3M           2019 ~ 2022  4 ★  4★   \n",
       "\n",
       "    a/w     d/w   ir hits    ls    st    rs    lw    lf    cf    rf    rw  \\\n",
       "0  High  Medium  1 ★    3  58+1  58+1  58+1  61+0  62+0  62+0  62+0  61+0   \n",
       "1  High     Low  2 ★   44  77+0  77+0  77+0  77+0  77+0  77+0  77+0  77+0   \n",
       "2  High  Medium  2 ★   73  73+2  73+2  73+2  80+0  79+0  79+0  79+0  80+0   \n",
       "\n",
       "    lam   cam   ram    lm   lcm    cm   rcm    rm   lwb   ldm   cdm   rdm  \\\n",
       "0  63+1  63+1  63+1  63+1  63+1  63+1  63+1  63+1  59+1  59+1  59+1  59+1   \n",
       "1  76+1  76+1  76+1  76+1  68+2  68+2  68+2  76+1  57+2  53+2  53+2  53+2   \n",
       "2  80+0  80+0  80+0  79+1  74+2  74+2  74+2  79+1  59+2  56+2  56+2  56+2   \n",
       "\n",
       "    rwb    lb   lcb    cb   rcb    rb    gk  \n",
       "0  59+1  58+1  54+1  54+1  54+1  58+1  15+1  \n",
       "1  57+2  53+2  48+2  48+2  48+2  53+2  18+2  \n",
       "2  59+2  53+2  41+2  41+2  41+2  53+2  12+2  "
      ]
     },
     "execution_count": 225,
     "metadata": {},
     "output_type": "execute_result"
    }
   ],
   "source": [
    "X_cat.head(3)"
   ]
  },
  {
   "cell_type": "code",
   "execution_count": 226,
   "metadata": {},
   "outputs": [],
   "source": [
    "X_cat2 = X_cat.iloc[:,0:20]"
   ]
  },
  {
   "cell_type": "code",
   "execution_count": 227,
   "metadata": {},
   "outputs": [
    {
     "data": {
      "text/html": [
       "<div>\n",
       "<style scoped>\n",
       "    .dataframe tbody tr th:only-of-type {\n",
       "        vertical-align: middle;\n",
       "    }\n",
       "\n",
       "    .dataframe tbody tr th {\n",
       "        vertical-align: top;\n",
       "    }\n",
       "\n",
       "    .dataframe thead th {\n",
       "        text-align: right;\n",
       "    }\n",
       "</style>\n",
       "<table border=\"1\" class=\"dataframe\">\n",
       "  <thead>\n",
       "    <tr style=\"text-align: right;\">\n",
       "      <th></th>\n",
       "      <th>name</th>\n",
       "      <th>nationality</th>\n",
       "      <th>club</th>\n",
       "      <th>bp</th>\n",
       "      <th>position</th>\n",
       "      <th>team_&amp;_contract</th>\n",
       "      <th>height</th>\n",
       "      <th>weight</th>\n",
       "      <th>foot</th>\n",
       "      <th>joined</th>\n",
       "      <th>value</th>\n",
       "      <th>wage</th>\n",
       "      <th>release_clause</th>\n",
       "      <th>contract</th>\n",
       "      <th>w/f</th>\n",
       "      <th>sm</th>\n",
       "      <th>a/w</th>\n",
       "      <th>d/w</th>\n",
       "      <th>ir</th>\n",
       "      <th>hits</th>\n",
       "    </tr>\n",
       "  </thead>\n",
       "  <tbody>\n",
       "  </tbody>\n",
       "</table>\n",
       "</div>"
      ],
      "text/plain": [
       "Empty DataFrame\n",
       "Columns: [name, nationality, club, bp, position, team_&_contract, height, weight, foot, joined, value, wage, release_clause, contract, w/f, sm, a/w, d/w, ir, hits]\n",
       "Index: []"
      ]
     },
     "execution_count": 227,
     "metadata": {},
     "output_type": "execute_result"
    }
   ],
   "source": [
    "X_cat2.head(0)"
   ]
  },
  {
   "cell_type": "code",
   "execution_count": 228,
   "metadata": {},
   "outputs": [
    {
     "data": {
      "text/html": [
       "<div>\n",
       "<style scoped>\n",
       "    .dataframe tbody tr th:only-of-type {\n",
       "        vertical-align: middle;\n",
       "    }\n",
       "\n",
       "    .dataframe tbody tr th {\n",
       "        vertical-align: top;\n",
       "    }\n",
       "\n",
       "    .dataframe thead th {\n",
       "        text-align: right;\n",
       "    }\n",
       "</style>\n",
       "<table border=\"1\" class=\"dataframe\">\n",
       "  <thead>\n",
       "    <tr style=\"text-align: right;\">\n",
       "      <th></th>\n",
       "      <th>name</th>\n",
       "      <th>nationality</th>\n",
       "      <th>club</th>\n",
       "      <th>bp</th>\n",
       "      <th>position</th>\n",
       "      <th>team_&amp;_contract</th>\n",
       "      <th>height</th>\n",
       "      <th>weight</th>\n",
       "      <th>foot</th>\n",
       "      <th>joined</th>\n",
       "      <th>value</th>\n",
       "      <th>wage</th>\n",
       "      <th>release_clause</th>\n",
       "      <th>contract</th>\n",
       "      <th>w/f</th>\n",
       "      <th>sm</th>\n",
       "      <th>a/w</th>\n",
       "      <th>d/w</th>\n",
       "      <th>ir</th>\n",
       "      <th>hits</th>\n",
       "      <th>ls</th>\n",
       "      <th>st</th>\n",
       "      <th>rs</th>\n",
       "      <th>lw</th>\n",
       "      <th>lf</th>\n",
       "      <th>cf</th>\n",
       "      <th>rf</th>\n",
       "      <th>rw</th>\n",
       "      <th>lam</th>\n",
       "      <th>cam</th>\n",
       "      <th>ram</th>\n",
       "      <th>lm</th>\n",
       "      <th>lcm</th>\n",
       "      <th>cm</th>\n",
       "      <th>rcm</th>\n",
       "      <th>rm</th>\n",
       "      <th>lwb</th>\n",
       "      <th>ldm</th>\n",
       "      <th>cdm</th>\n",
       "      <th>rdm</th>\n",
       "      <th>rwb</th>\n",
       "      <th>lb</th>\n",
       "      <th>lcb</th>\n",
       "      <th>cb</th>\n",
       "      <th>rcb</th>\n",
       "      <th>rb</th>\n",
       "      <th>gk</th>\n",
       "    </tr>\n",
       "  </thead>\n",
       "  <tbody>\n",
       "    <tr>\n",
       "      <th>0</th>\n",
       "      <td>A. Pasche</td>\n",
       "      <td>Switzerland</td>\n",
       "      <td>FC Lausanne-Sport</td>\n",
       "      <td>CM</td>\n",
       "      <td>CM CDM</td>\n",
       "      <td>FC Lausanne-Sport 2015 ~ 2020</td>\n",
       "      <td>5'9\"</td>\n",
       "      <td>161lbs</td>\n",
       "      <td>Right</td>\n",
       "      <td>Jul 1, 2015</td>\n",
       "      <td>€525K</td>\n",
       "      <td>€4K</td>\n",
       "      <td>€801K</td>\n",
       "      <td>2015 ~ 2020</td>\n",
       "      <td>4 ★</td>\n",
       "      <td>2★</td>\n",
       "      <td>High</td>\n",
       "      <td>Medium</td>\n",
       "      <td>1 ★</td>\n",
       "      <td>3</td>\n",
       "      <td>58+1</td>\n",
       "      <td>58+1</td>\n",
       "      <td>58+1</td>\n",
       "      <td>61+0</td>\n",
       "      <td>62+0</td>\n",
       "      <td>62+0</td>\n",
       "      <td>62+0</td>\n",
       "      <td>61+0</td>\n",
       "      <td>63+1</td>\n",
       "      <td>63+1</td>\n",
       "      <td>63+1</td>\n",
       "      <td>63+1</td>\n",
       "      <td>63+1</td>\n",
       "      <td>63+1</td>\n",
       "      <td>63+1</td>\n",
       "      <td>63+1</td>\n",
       "      <td>59+1</td>\n",
       "      <td>59+1</td>\n",
       "      <td>59+1</td>\n",
       "      <td>59+1</td>\n",
       "      <td>59+1</td>\n",
       "      <td>58+1</td>\n",
       "      <td>54+1</td>\n",
       "      <td>54+1</td>\n",
       "      <td>54+1</td>\n",
       "      <td>58+1</td>\n",
       "      <td>15+1</td>\n",
       "    </tr>\n",
       "  </tbody>\n",
       "</table>\n",
       "</div>"
      ],
      "text/plain": [
       "        name  nationality               club  bp position  \\\n",
       "0  A. Pasche  Switzerland  FC Lausanne-Sport  CM   CM CDM   \n",
       "\n",
       "                 team_&_contract height  weight   foot       joined  value  \\\n",
       "0  FC Lausanne-Sport 2015 ~ 2020   5'9\"  161lbs  Right  Jul 1, 2015  €525K   \n",
       "\n",
       "  wage release_clause     contract  w/f  sm   a/w     d/w   ir hits    ls  \\\n",
       "0  €4K          €801K  2015 ~ 2020  4 ★  2★  High  Medium  1 ★    3  58+1   \n",
       "\n",
       "     st    rs    lw    lf    cf    rf    rw   lam   cam   ram    lm   lcm  \\\n",
       "0  58+1  58+1  61+0  62+0  62+0  62+0  61+0  63+1  63+1  63+1  63+1  63+1   \n",
       "\n",
       "     cm   rcm    rm   lwb   ldm   cdm   rdm   rwb    lb   lcb    cb   rcb  \\\n",
       "0  63+1  63+1  63+1  59+1  59+1  59+1  59+1  59+1  58+1  54+1  54+1  54+1   \n",
       "\n",
       "     rb    gk  \n",
       "0  58+1  15+1  "
      ]
     },
     "execution_count": 228,
     "metadata": {},
     "output_type": "execute_result"
    }
   ],
   "source": [
    "X_cat.head(1)"
   ]
  },
  {
   "cell_type": "code",
   "execution_count": 229,
   "metadata": {},
   "outputs": [
    {
     "data": {
      "text/html": [
       "<div>\n",
       "<style scoped>\n",
       "    .dataframe tbody tr th:only-of-type {\n",
       "        vertical-align: middle;\n",
       "    }\n",
       "\n",
       "    .dataframe tbody tr th {\n",
       "        vertical-align: top;\n",
       "    }\n",
       "\n",
       "    .dataframe thead th {\n",
       "        text-align: right;\n",
       "    }\n",
       "</style>\n",
       "<table border=\"1\" class=\"dataframe\">\n",
       "  <thead>\n",
       "    <tr style=\"text-align: right;\">\n",
       "      <th></th>\n",
       "      <th>name</th>\n",
       "      <th>nationality</th>\n",
       "      <th>club</th>\n",
       "      <th>bp</th>\n",
       "      <th>position</th>\n",
       "      <th>team_&amp;_contract</th>\n",
       "      <th>height</th>\n",
       "      <th>weight</th>\n",
       "      <th>foot</th>\n",
       "      <th>joined</th>\n",
       "      <th>value</th>\n",
       "      <th>wage</th>\n",
       "      <th>release_clause</th>\n",
       "      <th>contract</th>\n",
       "      <th>w/f</th>\n",
       "      <th>sm</th>\n",
       "      <th>a/w</th>\n",
       "      <th>d/w</th>\n",
       "      <th>ir</th>\n",
       "      <th>hits</th>\n",
       "    </tr>\n",
       "  </thead>\n",
       "  <tbody>\n",
       "  </tbody>\n",
       "</table>\n",
       "</div>"
      ],
      "text/plain": [
       "Empty DataFrame\n",
       "Columns: [name, nationality, club, bp, position, team_&_contract, height, weight, foot, joined, value, wage, release_clause, contract, w/f, sm, a/w, d/w, ir, hits]\n",
       "Index: []"
      ]
     },
     "execution_count": 229,
     "metadata": {},
     "output_type": "execute_result"
    }
   ],
   "source": [
    "X_cat2.head(0)"
   ]
  },
  {
   "cell_type": "code",
   "execution_count": 230,
   "metadata": {},
   "outputs": [
    {
     "data": {
      "text/plain": [
       "8059"
      ]
     },
     "execution_count": 230,
     "metadata": {},
     "output_type": "execute_result"
    }
   ],
   "source": [
    "X_cat2['team_&_contract'].nunique()"
   ]
  },
  {
   "cell_type": "code",
   "execution_count": 231,
   "metadata": {},
   "outputs": [],
   "source": [
    "X_cat2 = X_cat2.drop(['team_&_contract'], axis = 1)"
   ]
  },
  {
   "cell_type": "code",
   "execution_count": 232,
   "metadata": {},
   "outputs": [
    {
     "data": {
      "text/plain": [
       "Index(['name', 'nationality', 'club', 'bp', 'position', 'height', 'weight',\n",
       "       'foot', 'joined', 'value', 'wage', 'release_clause', 'contract', 'w/f',\n",
       "       'sm', 'a/w', 'd/w', 'ir', 'hits'],\n",
       "      dtype='object')"
      ]
     },
     "execution_count": 232,
     "metadata": {},
     "output_type": "execute_result"
    }
   ],
   "source": [
    "X_cat2.columns"
   ]
  },
  {
   "cell_type": "code",
   "execution_count": 233,
   "metadata": {},
   "outputs": [],
   "source": [
    "#distribution of categorical column values\n",
    "#for val in X_cat2.columns:  \n",
    "#sns.boxplot(x = X_cat2['team_&_contract'], y = Y)\n",
    "#plt.show()"
   ]
  },
  {
   "cell_type": "code",
   "execution_count": 234,
   "metadata": {},
   "outputs": [
    {
     "data": {
      "text/plain": [
       "573"
      ]
     },
     "execution_count": 234,
     "metadata": {},
     "output_type": "execute_result"
    }
   ],
   "source": [
    "X_cat2['position'].nunique()  #.value_counts()"
   ]
  },
  {
   "cell_type": "code",
   "execution_count": 235,
   "metadata": {},
   "outputs": [],
   "source": [
    "X_cat2 = X_cat2.drop(['nationality','name'], axis = 1)"
   ]
  },
  {
   "cell_type": "code",
   "execution_count": 236,
   "metadata": {},
   "outputs": [
    {
     "data": {
      "text/plain": [
       "Index(['club', 'bp', 'position', 'height', 'weight', 'foot', 'joined', 'value',\n",
       "       'wage', 'release_clause', 'contract', 'w/f', 'sm', 'a/w', 'd/w', 'ir',\n",
       "       'hits'],\n",
       "      dtype='object')"
      ]
     },
     "execution_count": 236,
     "metadata": {},
     "output_type": "execute_result"
    }
   ],
   "source": [
    "X_cat2.columns"
   ]
  },
  {
   "cell_type": "code",
   "execution_count": 237,
   "metadata": {},
   "outputs": [],
   "source": [
    "X_cat2 = X_cat2.drop(['club'], axis = 1)"
   ]
  },
  {
   "cell_type": "code",
   "execution_count": 238,
   "metadata": {},
   "outputs": [
    {
     "data": {
      "text/plain": [
       "Index(['bp', 'position', 'height', 'weight', 'foot', 'joined', 'value', 'wage',\n",
       "       'release_clause', 'contract', 'w/f', 'sm', 'a/w', 'd/w', 'ir', 'hits'],\n",
       "      dtype='object')"
      ]
     },
     "execution_count": 238,
     "metadata": {},
     "output_type": "execute_result"
    }
   ],
   "source": [
    "X_cat2.columns"
   ]
  },
  {
   "cell_type": "code",
   "execution_count": 239,
   "metadata": {},
   "outputs": [
    {
     "data": {
      "image/png": "[encoded data removed]",
      "text/plain": [
       "<Figure size 432x288 with 1 Axes>"
      ]
     },
     "metadata": {
      "needs_background": "light"
     },
     "output_type": "display_data"
    }
   ],
   "source": [
    "sns.boxplot(x = X_cat2['bp'], y = Y)\n",
    "plt.show()"
   ]
  },
  {
   "cell_type": "code",
   "execution_count": 240,
   "metadata": {},
   "outputs": [],
   "source": [
    "#X_cat2 = X_cat2.drop(['team_&_contract','contract'], axis = 1)"
   ]
  },
  {
   "cell_type": "code",
   "execution_count": 241,
   "metadata": {},
   "outputs": [
    {
     "data": {
      "text/plain": [
       "Index(['bp', 'position', 'height', 'weight', 'foot', 'joined', 'value', 'wage',\n",
       "       'release_clause', 'contract', 'w/f', 'sm', 'a/w', 'd/w', 'ir', 'hits'],\n",
       "      dtype='object')"
      ]
     },
     "execution_count": 241,
     "metadata": {},
     "output_type": "execute_result"
    }
   ],
   "source": [
    "X_cat2.columns"
   ]
  },
  {
   "cell_type": "code",
   "execution_count": 242,
   "metadata": {},
   "outputs": [],
   "source": [
    "X_cat2 = X_cat2.drop(['position'], axis = 1)"
   ]
  },
  {
   "cell_type": "code",
   "execution_count": 243,
   "metadata": {},
   "outputs": [],
   "source": [
    "X_cat2 = X_cat2.drop(['height','weight'], axis = 1)"
   ]
  },
  {
   "cell_type": "code",
   "execution_count": 244,
   "metadata": {},
   "outputs": [
    {
     "data": {
      "text/plain": [
       "Index(['bp', 'foot', 'joined', 'value', 'wage', 'release_clause', 'contract',\n",
       "       'w/f', 'sm', 'a/w', 'd/w', 'ir', 'hits'],\n",
       "      dtype='object')"
      ]
     },
     "execution_count": 244,
     "metadata": {},
     "output_type": "execute_result"
    }
   ],
   "source": [
    "X_cat2.columns"
   ]
  },
  {
   "cell_type": "code",
   "execution_count": 245,
   "metadata": {},
   "outputs": [
    {
     "data": {
      "image/png": "[encoded data removed]",
      "text/plain": [
       "<Figure size 432x288 with 1 Axes>"
      ]
     },
     "metadata": {
      "needs_background": "light"
     },
     "output_type": "display_data"
    }
   ],
   "source": [
    "sns.boxplot(x = X_cat2['w/f'], y = Y)\n",
    "plt.show()"
   ]
  },
  {
   "cell_type": "code",
   "execution_count": 246,
   "metadata": {},
   "outputs": [
    {
     "data": {
      "image/png": "[encoded data removed]",
      "text/plain": [
       "<Figure size 432x288 with 1 Axes>"
      ]
     },
     "metadata": {
      "needs_background": "light"
     },
     "output_type": "display_data"
    }
   ],
   "source": [
    "sns.boxplot(x = X_cat2['sm'], y = Y)\n",
    "plt.show()"
   ]
  },
  {
   "cell_type": "code",
   "execution_count": 247,
   "metadata": {},
   "outputs": [
    {
     "data": {
      "image/png": "[encoded data removed]",
      "text/plain": [
       "<Figure size 432x288 with 1 Axes>"
      ]
     },
     "metadata": {
      "needs_background": "light"
     },
     "output_type": "display_data"
    }
   ],
   "source": [
    "sns.boxplot(x = X_cat2['a/w'], y = Y)\n",
    "plt.show()"
   ]
  },
  {
   "cell_type": "code",
   "execution_count": 248,
   "metadata": {},
   "outputs": [
    {
     "data": {
      "image/png": "[encoded data removed]",
      "text/plain": [
       "<Figure size 432x288 with 1 Axes>"
      ]
     },
     "metadata": {
      "needs_background": "light"
     },
     "output_type": "display_data"
    }
   ],
   "source": [
    "sns.boxplot(x = X_cat2['d/w'], y = Y)\n",
    "plt.show()"
   ]
  },
  {
   "cell_type": "code",
   "execution_count": 249,
   "metadata": {},
   "outputs": [
    {
     "data": {
      "image/png": "[encoded data removed]",
      "text/plain": [
       "<Figure size 432x288 with 1 Axes>"
      ]
     },
     "metadata": {
      "needs_background": "light"
     },
     "output_type": "display_data"
    }
   ],
   "source": [
    "sns.boxplot(x = X_cat2['ir'], y = Y)\n",
    "plt.show()\n",
    "\n"
   ]
  },
  {
   "cell_type": "code",
   "execution_count": 250,
   "metadata": {},
   "outputs": [],
   "source": [
    "X_cat2 = X_cat2.drop(['a/w','d/w'], axis = 1)"
   ]
  },
  {
   "cell_type": "code",
   "execution_count": 251,
   "metadata": {},
   "outputs": [
    {
     "data": {
      "text/plain": [
       "Index(['bp', 'foot', 'joined', 'value', 'wage', 'release_clause', 'contract',\n",
       "       'w/f', 'sm', 'ir', 'hits'],\n",
       "      dtype='object')"
      ]
     },
     "execution_count": 251,
     "metadata": {},
     "output_type": "execute_result"
    }
   ],
   "source": [
    "X_cat2.columns"
   ]
  },
  {
   "cell_type": "code",
   "execution_count": 252,
   "metadata": {},
   "outputs": [
    {
     "data": {
      "text/plain": [
       "(13124, 11)"
      ]
     },
     "execution_count": 252,
     "metadata": {},
     "output_type": "execute_result"
    }
   ],
   "source": [
    "X_cat2.shape"
   ]
  },
  {
   "cell_type": "code",
   "execution_count": 253,
   "metadata": {},
   "outputs": [
    {
     "data": {
      "text/plain": [
       "Index(['bp', 'foot', 'joined', 'value', 'wage', 'release_clause', 'contract',\n",
       "       'w/f', 'sm', 'ir', 'hits'],\n",
       "      dtype='object')"
      ]
     },
     "execution_count": 253,
     "metadata": {},
     "output_type": "execute_result"
    }
   ],
   "source": [
    "X_cat2.columns"
   ]
  },
  {
   "cell_type": "code",
   "execution_count": 254,
   "metadata": {},
   "outputs": [],
   "source": [
    "# checking unique categorical values separately so that we can standardize properly"
   ]
  },
  {
   "cell_type": "code",
   "execution_count": 255,
   "metadata": {},
   "outputs": [],
   "source": [
    "#for val in X_cat2.columns:\n",
    "#    print(X_cat2[val].nunique())\n",
    "    \n",
    "    \n",
    "    "
   ]
  },
  {
   "cell_type": "code",
   "execution_count": 256,
   "metadata": {},
   "outputs": [],
   "source": [
    "X_cat2 = X_cat2.drop(['joined','value','wage','release_clause','contract','hits'], axis = 1)"
   ]
  },
  {
   "cell_type": "code",
   "execution_count": 257,
   "metadata": {},
   "outputs": [
    {
     "data": {
      "text/plain": [
       "Index(['bp', 'foot', 'w/f', 'sm', 'ir'], dtype='object')"
      ]
     },
     "execution_count": 257,
     "metadata": {},
     "output_type": "execute_result"
    }
   ],
   "source": [
    "X_cat2.columns"
   ]
  },
  {
   "cell_type": "code",
   "execution_count": 258,
   "metadata": {},
   "outputs": [
    {
     "data": {
      "image/png": "[encoded data removed]",
      "text/plain": [
       "<Figure size 432x288 with 1 Axes>"
      ]
     },
     "metadata": {
      "needs_background": "light"
     },
     "output_type": "display_data"
    },
    {
     "data": {
      "image/png": "[encoded data removed]",
      "text/plain": [
       "<Figure size 432x288 with 1 Axes>"
      ]
     },
     "metadata": {
      "needs_background": "light"
     },
     "output_type": "display_data"
    },
    {
     "data": {
      "image/png": "[encoded data removed]",
      "text/plain": [
       "<Figure size 432x288 with 1 Axes>"
      ]
     },
     "metadata": {
      "needs_background": "light"
     },
     "output_type": "display_data"
    },
    {
     "data": {
      "image/png": "[encoded data removed]",
      "text/plain": [
       "<Figure size 432x288 with 1 Axes>"
      ]
     },
     "metadata": {
      "needs_background": "light"
     },
     "output_type": "display_data"
    },
    {
     "data": {
      "image/png": "[encoded data removed]",
      "text/plain": [
       "<Figure size 432x288 with 1 Axes>"
      ]
     },
     "metadata": {
      "needs_background": "light"
     },
     "output_type": "display_data"
    }
   ],
   "source": [
    "for val in X_cat2.columns:\n",
    "    sns.boxplot(x = X_cat2[val], y = Y)\n",
    "    plt.show()"
   ]
  },
  {
   "cell_type": "code",
   "execution_count": 259,
   "metadata": {},
   "outputs": [],
   "source": [
    "#dropping foot based on X Y comparison"
   ]
  },
  {
   "cell_type": "code",
   "execution_count": 260,
   "metadata": {},
   "outputs": [],
   "source": [
    "X_cat2 = X_cat2.drop(['foot'], axis = 1)"
   ]
  },
  {
   "cell_type": "code",
   "execution_count": 261,
   "metadata": {},
   "outputs": [
    {
     "data": {
      "text/plain": [
       "Index(['bp', 'w/f', 'sm', 'ir'], dtype='object')"
      ]
     },
     "execution_count": 261,
     "metadata": {},
     "output_type": "execute_result"
    }
   ],
   "source": [
    "X_cat2.columns"
   ]
  },
  {
   "cell_type": "code",
   "execution_count": 262,
   "metadata": {},
   "outputs": [
    {
     "data": {
      "text/html": [
       "<div>\n",
       "<style scoped>\n",
       "    .dataframe tbody tr th:only-of-type {\n",
       "        vertical-align: middle;\n",
       "    }\n",
       "\n",
       "    .dataframe tbody tr th {\n",
       "        vertical-align: top;\n",
       "    }\n",
       "\n",
       "    .dataframe thead th {\n",
       "        text-align: right;\n",
       "    }\n",
       "</style>\n",
       "<table border=\"1\" class=\"dataframe\">\n",
       "  <thead>\n",
       "    <tr style=\"text-align: right;\">\n",
       "      <th></th>\n",
       "      <th>bp_CB</th>\n",
       "      <th>bp_CDM</th>\n",
       "      <th>bp_CF</th>\n",
       "      <th>bp_CM</th>\n",
       "      <th>bp_GK</th>\n",
       "      <th>bp_LB</th>\n",
       "      <th>bp_LM</th>\n",
       "      <th>bp_LW</th>\n",
       "      <th>bp_LWB</th>\n",
       "      <th>bp_RB</th>\n",
       "      <th>bp_RM</th>\n",
       "      <th>bp_RW</th>\n",
       "      <th>bp_RWB</th>\n",
       "      <th>bp_ST</th>\n",
       "      <th>w/f_2 ★</th>\n",
       "      <th>w/f_3 ★</th>\n",
       "      <th>w/f_4 ★</th>\n",
       "      <th>w/f_5 ★</th>\n",
       "      <th>sm_2★</th>\n",
       "      <th>sm_3★</th>\n",
       "      <th>sm_4★</th>\n",
       "      <th>sm_5★</th>\n",
       "      <th>ir_2 ★</th>\n",
       "      <th>ir_3 ★</th>\n",
       "      <th>ir_4 ★</th>\n",
       "      <th>ir_5 ★</th>\n",
       "    </tr>\n",
       "  </thead>\n",
       "  <tbody>\n",
       "    <tr>\n",
       "      <th>0</th>\n",
       "      <td>0</td>\n",
       "      <td>0</td>\n",
       "      <td>0</td>\n",
       "      <td>1</td>\n",
       "      <td>0</td>\n",
       "      <td>0</td>\n",
       "      <td>0</td>\n",
       "      <td>0</td>\n",
       "      <td>0</td>\n",
       "      <td>0</td>\n",
       "      <td>0</td>\n",
       "      <td>0</td>\n",
       "      <td>0</td>\n",
       "      <td>0</td>\n",
       "      <td>0</td>\n",
       "      <td>0</td>\n",
       "      <td>1</td>\n",
       "      <td>0</td>\n",
       "      <td>1</td>\n",
       "      <td>0</td>\n",
       "      <td>0</td>\n",
       "      <td>0</td>\n",
       "      <td>0</td>\n",
       "      <td>0</td>\n",
       "      <td>0</td>\n",
       "      <td>0</td>\n",
       "    </tr>\n",
       "    <tr>\n",
       "      <th>1</th>\n",
       "      <td>0</td>\n",
       "      <td>0</td>\n",
       "      <td>0</td>\n",
       "      <td>0</td>\n",
       "      <td>0</td>\n",
       "      <td>0</td>\n",
       "      <td>0</td>\n",
       "      <td>0</td>\n",
       "      <td>0</td>\n",
       "      <td>0</td>\n",
       "      <td>0</td>\n",
       "      <td>0</td>\n",
       "      <td>0</td>\n",
       "      <td>1</td>\n",
       "      <td>0</td>\n",
       "      <td>1</td>\n",
       "      <td>0</td>\n",
       "      <td>0</td>\n",
       "      <td>0</td>\n",
       "      <td>0</td>\n",
       "      <td>1</td>\n",
       "      <td>0</td>\n",
       "      <td>1</td>\n",
       "      <td>0</td>\n",
       "      <td>0</td>\n",
       "      <td>0</td>\n",
       "    </tr>\n",
       "    <tr>\n",
       "      <th>2</th>\n",
       "      <td>0</td>\n",
       "      <td>0</td>\n",
       "      <td>0</td>\n",
       "      <td>0</td>\n",
       "      <td>0</td>\n",
       "      <td>0</td>\n",
       "      <td>0</td>\n",
       "      <td>0</td>\n",
       "      <td>0</td>\n",
       "      <td>0</td>\n",
       "      <td>0</td>\n",
       "      <td>0</td>\n",
       "      <td>0</td>\n",
       "      <td>0</td>\n",
       "      <td>0</td>\n",
       "      <td>0</td>\n",
       "      <td>1</td>\n",
       "      <td>0</td>\n",
       "      <td>0</td>\n",
       "      <td>0</td>\n",
       "      <td>1</td>\n",
       "      <td>0</td>\n",
       "      <td>1</td>\n",
       "      <td>0</td>\n",
       "      <td>0</td>\n",
       "      <td>0</td>\n",
       "    </tr>\n",
       "  </tbody>\n",
       "</table>\n",
       "</div>"
      ],
      "text/plain": [
       "   bp_CB  bp_CDM  bp_CF  bp_CM  bp_GK  bp_LB  bp_LM  bp_LW  bp_LWB  bp_RB  \\\n",
       "0      0       0      0      1      0      0      0      0       0      0   \n",
       "1      0       0      0      0      0      0      0      0       0      0   \n",
       "2      0       0      0      0      0      0      0      0       0      0   \n",
       "\n",
       "   bp_RM  bp_RW  bp_RWB  bp_ST  w/f_2 ★  w/f_3 ★  w/f_4 ★  w/f_5 ★  sm_2★  \\\n",
       "0      0      0       0      0        0        0        1        0      1   \n",
       "1      0      0       0      1        0        1        0        0      0   \n",
       "2      0      0       0      0        0        0        1        0      0   \n",
       "\n",
       "   sm_3★  sm_4★  sm_5★  ir_2 ★  ir_3 ★  ir_4 ★  ir_5 ★  \n",
       "0      0      0      0       0       0       0       0  \n",
       "1      0      1      0       1       0       0       0  \n",
       "2      0      1      0       1       0       0       0  "
      ]
     },
     "execution_count": 262,
     "metadata": {},
     "output_type": "execute_result"
    }
   ],
   "source": [
    "from sklearn.preprocessing import OneHotEncoder\n",
    "one_hot_data = pd.get_dummies(X_cat2, drop_first = True)   # one hot encoding categorical variables\n",
    "one_hot_data.head(3)"
   ]
  },
  {
   "cell_type": "code",
   "execution_count": 263,
   "metadata": {},
   "outputs": [
    {
     "data": {
      "text/plain": [
       "(13124, 26)"
      ]
     },
     "execution_count": 263,
     "metadata": {},
     "output_type": "execute_result"
    }
   ],
   "source": [
    "one_hot_data.shape"
   ]
  },
  {
   "cell_type": "code",
   "execution_count": 264,
   "metadata": {},
   "outputs": [
    {
     "data": {
      "text/plain": [
       "(13124, 24)"
      ]
     },
     "execution_count": 264,
     "metadata": {},
     "output_type": "execute_result"
    }
   ],
   "source": [
    "X_num3.shape"
   ]
  },
  {
   "cell_type": "code",
   "execution_count": 265,
   "metadata": {},
   "outputs": [],
   "source": [
    "#concatenating all batches\n",
    "X = pd.concat([X_num3,one_hot_data], axis = 1)"
   ]
  },
  {
   "cell_type": "code",
   "execution_count": 266,
   "metadata": {},
   "outputs": [],
   "source": [
    "from sklearn.model_selection import train_test_split\n",
    "X_train, X_test, y_train, y_test=train_test_split(X, Y, test_size=0.3, random_state=100) #taking random observations from 70% \n",
    "# random state fixed sample"
   ]
  },
  {
   "cell_type": "code",
   "execution_count": 267,
   "metadata": {},
   "outputs": [
    {
     "data": {
      "text/plain": [
       "LinearRegression()"
      ]
     },
     "execution_count": 267,
     "metadata": {},
     "output_type": "execute_result"
    }
   ],
   "source": [
    "from sklearn.linear_model import LinearRegression \n",
    "lm=LinearRegression()    # model\n",
    "lm.fit(X_train, y_train)   # model train\n",
    "#predictions=lm.predict(X_test)   # model prediction"
   ]
  },
  {
   "cell_type": "code",
   "execution_count": 268,
   "metadata": {},
   "outputs": [],
   "source": [
    "predictions=lm.predict(X_test) "
   ]
  },
  {
   "cell_type": "code",
   "execution_count": 269,
   "metadata": {},
   "outputs": [
    {
     "name": "stdout",
     "output_type": "stream",
     "text": [
      "[70.33437103 83.62938835 68.84823277 ... 76.36756269 74.90514554\n",
      " 72.27268252]\n"
     ]
    }
   ],
   "source": [
    "print(predictions)"
   ]
  },
  {
   "cell_type": "code",
   "execution_count": 270,
   "metadata": {},
   "outputs": [],
   "source": [
    "from sklearn.metrics import r2_score, mean_squared_error"
   ]
  },
  {
   "cell_type": "code",
   "execution_count": 271,
   "metadata": {},
   "outputs": [
    {
     "name": "stdout",
     "output_type": "stream",
     "text": [
      "4.465969678239253\n"
     ]
    }
   ],
   "source": [
    "rmse = mean_squared_error(y_test, predictions)\n",
    "print(rmse)"
   ]
  },
  {
   "cell_type": "code",
   "execution_count": 272,
   "metadata": {},
   "outputs": [
    {
     "data": {
      "text/plain": [
       "0.9073017547614589"
      ]
     },
     "execution_count": 272,
     "metadata": {},
     "output_type": "execute_result"
    }
   ],
   "source": [
    "r2 = r2_score(y_test, predictions)\n",
    "r2"
   ]
  },
  {
   "cell_type": "code",
   "execution_count": 273,
   "metadata": {},
   "outputs": [],
   "source": [
    "n = len(X_test) \n",
    "p = X_test.shape[1]"
   ]
  },
  {
   "cell_type": "code",
   "execution_count": 274,
   "metadata": {},
   "outputs": [
    {
     "data": {
      "text/plain": [
       "0.9061093410074257"
      ]
     },
     "execution_count": 274,
     "metadata": {},
     "output_type": "execute_result"
    }
   ],
   "source": [
    "adj_r2 = 1-((1-r2)*(n-1)/(n-p-1))\n",
    "adj_r2"
   ]
  }
 ],
 "metadata": {
  "kernelspec": {
   "display_name": "Python 3",
   "language": "python",
   "name": "python3"
  },
  "language_info": {
   "codemirror_mode": {
    "name": "ipython",
    "version": 3
   },
   "file_extension": ".py",
   "mimetype": "text/x-python",
   "name": "python",
   "nbconvert_exporter": "python",
   "pygments_lexer": "ipython3",
   "version": "3.9.0"
  }
 },
 "nbformat": 4,
 "nbformat_minor": 4
}
